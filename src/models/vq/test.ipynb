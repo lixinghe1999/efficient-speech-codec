{
 "cells": [
  {
   "cell_type": "code",
   "execution_count": 1,
   "metadata": {},
   "outputs": [],
   "source": [
    "import torch\n",
    "from quantization import GroupVQ"
   ]
  },
  {
   "cell_type": "code",
   "execution_count": 2,
   "metadata": {},
   "outputs": [
    {
     "data": {
      "text/plain": [
       "tensor([[[-0.5565, -1.1160,  1.5750,  1.2781],\n",
       "         [ 0.4280,  0.4349, -0.8033, -0.0299],\n",
       "         [ 1.1778,  0.9756, -0.1200,  0.1954],\n",
       "         [ 1.0845, -0.9608,  1.3249,  1.0767],\n",
       "         [-0.2449,  0.6976,  0.8688, -1.6953],\n",
       "         [-0.0492,  2.4842, -1.4148,  0.0741]],\n",
       "\n",
       "        [[ 0.8033, -0.1597, -0.6752,  1.3199],\n",
       "         [-0.0881, -0.0349,  0.4298, -0.9522],\n",
       "         [ 0.9399,  0.8171, -0.0028, -0.9964],\n",
       "         [-0.5293, -1.7170,  0.9610,  0.4428],\n",
       "         [-0.1163,  2.4159, -0.2126, -1.6512],\n",
       "         [-0.4930, -1.7803,  0.7488, -0.5361]]])"
      ]
     },
     "execution_count": 2,
     "metadata": {},
     "output_type": "execute_result"
    }
   ],
   "source": [
    "x = torch.randn(2, 2*3, 4)\n",
    "x"
   ]
  },
  {
   "cell_type": "code",
   "execution_count": 3,
   "metadata": {},
   "outputs": [
    {
     "data": {
      "text/plain": [
       "GroupVQ(\n",
       "  (vqs): ModuleList(\n",
       "    (0-2): 3 x Codebook(\n",
       "      (embedding): Embedding(2, 2)\n",
       "      (proj_down): Linear(in_features=8, out_features=2, bias=False)\n",
       "      (proj_up): Linear(in_features=2, out_features=8, bias=False)\n",
       "    )\n",
       "  )\n",
       ")"
      ]
     },
     "execution_count": 3,
     "metadata": {},
     "output_type": "execute_result"
    }
   ],
   "source": [
    "vq1 = GroupVQ(\n",
    "    in_dim=4, H=3, overlap=2, num_vqs=3, \n",
    "    codebook_dim=2, codebook_size=2, \n",
    ")\n",
    "vq2 = GroupVQ(\n",
    "    in_dim=4, H=3, overlap=2, num_vqs=3, \n",
    "    codebook_dim=2, codebook_size=2, \n",
    ")\n",
    "\n",
    "for (mod1, mod2) in zip(vq1.vqs, vq2.vqs):\n",
    "    \n",
    "    mod1.embedding.weight.data = mod2.embedding.weight.clone()\n",
    "    mod1.proj_down.weight.data = mod2.proj_down.weight.clone()\n",
    "    mod1.proj_up.weight.data = mod2.proj_up.weight.clone()\n",
    "\n",
    "\n",
    "vq1.eval()"
   ]
  },
  {
   "cell_type": "code",
   "execution_count": 4,
   "metadata": {},
   "outputs": [
    {
     "name": "stdout",
     "output_type": "stream",
     "text": [
      "(tensor([[[-0.0850,  0.5452, -0.1945, -0.5143],\n",
      "         [ 0.5460, -0.2685,  0.2954, -0.3716],\n",
      "         [ 0.2048, -0.0037, -0.0631, -0.3721],\n",
      "         [ 0.0064, -0.0079, -0.2214,  0.2875],\n",
      "         [-0.9251, -0.5298,  0.3773, -0.0345],\n",
      "         [-0.1411, -0.2568, -0.1273,  0.5143]],\n",
      "\n",
      "        [[ 0.0126,  0.1211, -0.0347, -0.5143],\n",
      "         [ 0.5460, -0.2685,  0.3106,  0.7087],\n",
      "         [ 0.0625, -0.0085, -0.0595, -0.3721],\n",
      "         [ 0.0064,  1.1988, -0.9671,  0.6533],\n",
      "         [-0.1729, -0.0988,  0.3773, -0.0345],\n",
      "         [-0.1411,  0.1365,  1.2267,  0.1263]]]), tensor([0.6005, 1.0182]), tensor([0.6005, 1.0182]))\n"
     ]
    }
   ],
   "source": [
    "with torch.no_grad():\n",
    "    print(vq1(x))"
   ]
  },
  {
   "cell_type": "code",
   "execution_count": 7,
   "metadata": {},
   "outputs": [
    {
     "name": "stdout",
     "output_type": "stream",
     "text": [
      "tensor([[[1],\n",
      "         [0],\n",
      "         [1]],\n",
      "\n",
      "        [[0],\n",
      "         [0],\n",
      "         [0]]])\n",
      "tensor([[[-0.0850,  0.5452, -0.1945, -0.5143],\n",
      "         [ 0.5460, -0.2685,  0.2954, -0.3716],\n",
      "         [ 0.2048, -0.0037, -0.0631, -0.3721],\n",
      "         [ 0.0064, -0.0079, -0.2214,  0.2875],\n",
      "         [-0.9251, -0.5298,  0.3773, -0.0345],\n",
      "         [-0.1411, -0.2568, -0.1273,  0.5143]],\n",
      "\n",
      "        [[ 0.0126,  0.1211, -0.0347, -0.5143],\n",
      "         [ 0.5460, -0.2685,  0.3106,  0.7087],\n",
      "         [ 0.0625, -0.0085, -0.0595, -0.3721],\n",
      "         [ 0.0064,  1.1988, -0.9671,  0.6533],\n",
      "         [-0.1729, -0.0988,  0.3773, -0.0345],\n",
      "         [-0.1411,  0.1365,  1.2267,  0.1263]]])\n"
     ]
    }
   ],
   "source": [
    "with torch.no_grad():\n",
    "    codes = vq1.encode(x)\n",
    "    print(codes)\n",
    "    print( vq1.decode(codes, dim=3))"
   ]
  },
  {
   "cell_type": "code",
   "execution_count": 1,
   "metadata": {},
   "outputs": [
    {
     "data": {
      "text/plain": [
       "3"
      ]
     },
     "execution_count": 1,
     "metadata": {},
     "output_type": "execute_result"
    }
   ],
   "source": [
    "sum((1,2))"
   ]
  },
  {
   "cell_type": "code",
   "execution_count": 1,
   "metadata": {},
   "outputs": [],
   "source": [
    "num_device = 4\n",
    "device_ids = [i for i in range(num_device)]"
   ]
  },
  {
   "cell_type": "code",
   "execution_count": 2,
   "metadata": {},
   "outputs": [
    {
     "data": {
      "text/plain": [
       "[0, 1, 2, 3]"
      ]
     },
     "execution_count": 2,
     "metadata": {},
     "output_type": "execute_result"
    }
   ],
   "source": [
    "device_ids"
   ]
  },
  {
   "cell_type": "code",
   "execution_count": 8,
   "metadata": {},
   "outputs": [
    {
     "data": {
      "text/plain": [
       "'0, 1, 2, 3'"
      ]
     },
     "execution_count": 8,
     "metadata": {},
     "output_type": "execute_result"
    }
   ],
   "source": [
    "\", \".join([str(ids) for ids in device_ids])"
   ]
  },
  {
   "cell_type": "code",
   "execution_count": 9,
   "metadata": {},
   "outputs": [
    {
     "data": {
      "text/plain": [
       "ModuleList(\n",
       "  (0): Linear(in_features=10, out_features=10, bias=True)\n",
       ")"
      ]
     },
     "execution_count": 9,
     "metadata": {},
     "output_type": "execute_result"
    }
   ],
   "source": [
    "import torch.nn as nn\n",
    "x = nn.ModuleList()\n",
    "x.append(nn.Linear(10,10))\n",
    "x"
   ]
  },
  {
   "cell_type": "code",
   "execution_count": 11,
   "metadata": {},
   "outputs": [
    {
     "data": {
      "text/plain": [
       "ModuleList(\n",
       "  (0): Linear(in_features=10, out_features=10, bias=True)\n",
       ")"
      ]
     },
     "execution_count": 11,
     "metadata": {},
     "output_type": "execute_result"
    }
   ],
   "source": [
    "x = nn.ModuleList([nn.Linear(10,10)])\n",
    "x"
   ]
  },
  {
   "cell_type": "code",
   "execution_count": 12,
   "metadata": {},
   "outputs": [],
   "source": [
    "class A:\n",
    "    def __init__(self) -> None:\n",
    "        pass\n",
    "\n",
    "class B(A):\n",
    "    def __init__(self) -> None:\n",
    "        super().__init__()\n",
    "        super().m = 6\n",
    "\n",
    "    def train(self, ):\n",
    "        print(self.m)"
   ]
  },
  {
   "cell_type": "code",
   "execution_count": 14,
   "metadata": {},
   "outputs": [],
   "source": [
    "codebook_size=2\n",
    "max_streams=4\n",
    "num_vq=3\n",
    "vq_stats_dict = {\n",
    "        f\"stream_{S}_group_{G}\": {i+1:0 for i in range(codebook_size)} for S in range(max_streams) for G in range(num_vq)\n",
    "    }"
   ]
  },
  {
   "cell_type": "code",
   "execution_count": 15,
   "metadata": {},
   "outputs": [
    {
     "data": {
      "text/plain": [
       "{'stream_0_group_0': {1: 0, 2: 0},\n",
       " 'stream_0_group_1': {1: 0, 2: 0},\n",
       " 'stream_0_group_2': {1: 0, 2: 0},\n",
       " 'stream_1_group_0': {1: 0, 2: 0},\n",
       " 'stream_1_group_1': {1: 0, 2: 0},\n",
       " 'stream_1_group_2': {1: 0, 2: 0},\n",
       " 'stream_2_group_0': {1: 0, 2: 0},\n",
       " 'stream_2_group_1': {1: 0, 2: 0},\n",
       " 'stream_2_group_2': {1: 0, 2: 0},\n",
       " 'stream_3_group_0': {1: 0, 2: 0},\n",
       " 'stream_3_group_1': {1: 0, 2: 0},\n",
       " 'stream_3_group_2': {1: 0, 2: 0}}"
      ]
     },
     "execution_count": 15,
     "metadata": {},
     "output_type": "execute_result"
    }
   ],
   "source": [
    "vq_stats_dict"
   ]
  },
  {
   "cell_type": "code",
   "execution_count": null,
   "metadata": {},
   "outputs": [],
   "source": []
  }
 ],
 "metadata": {
  "kernelspec": {
   "display_name": "Python 3.9.6 64-bit",
   "language": "python",
   "name": "python3"
  },
  "language_info": {
   "codemirror_mode": {
    "name": "ipython",
    "version": 3
   },
   "file_extension": ".py",
   "mimetype": "text/x-python",
   "name": "python",
   "nbconvert_exporter": "python",
   "pygments_lexer": "ipython3",
   "version": "3.9.0"
  },
  "orig_nbformat": 4,
  "vscode": {
   "interpreter": {
    "hash": "31f2aee4e71d21fbe5cf8b01ff0e069b9275f58929596ceb00d14d90e3e16cd6"
   }
  }
 },
 "nbformat": 4,
 "nbformat_minor": 2
}
