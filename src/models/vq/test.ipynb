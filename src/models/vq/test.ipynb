{
 "cells": [
  {
   "cell_type": "code",
   "execution_count": 13,
   "metadata": {},
   "outputs": [],
   "source": [
    "from codebook import Codebook\n",
    "\n",
    "vq = Codebook(\n",
    "    input_size=8,\n",
    "    embedding_size=8,\n",
    "    num_embedding=50,\n",
    "    use_cosine_sim=True\n",
    ")\n",
    "\n",
    "import torch\n",
    "T = 10\n",
    "x = torch.randn(2, T, 8)"
   ]
  },
  {
   "cell_type": "code",
   "execution_count": 14,
   "metadata": {},
   "outputs": [
    {
     "data": {
      "text/plain": [
       "(torch.Size([2, 10]),\n",
       " tensor([[ 3, 22,  0, 24, 27, 33, 20,  0, 10, 13],\n",
       "         [ 2, 20, 25,  9,  2, 15,  8, 34, 22, 37]]))"
      ]
     },
     "execution_count": 14,
     "metadata": {},
     "output_type": "execute_result"
    }
   ],
   "source": [
    "code = vq.quantize_to_code(x)\n",
    "\n",
    "code.shape, code"
   ]
  },
  {
   "cell_type": "code",
   "execution_count": 28,
   "metadata": {},
   "outputs": [
    {
     "data": {
      "text/plain": [
       "tensor([[0.2000, 0.0000, 0.0000,  ..., 0.0000, 0.0000, 0.0000],\n",
       "        [0.0000, 0.0000, 0.2000,  ..., 0.0000, 0.0000, 0.0000]])"
      ]
     },
     "execution_count": 28,
     "metadata": {},
     "output_type": "execute_result"
    }
   ],
   "source": [
    "one_hot = torch.nn.functional.one_hot(code, num_classes=1024)\n",
    "counts = one_hot.sum(dim=1)\n",
    "counts / T"
   ]
  },
  {
   "cell_type": "code",
   "execution_count": 17,
   "metadata": {},
   "outputs": [
    {
     "data": {
      "text/plain": [
       "tensor([0.1000, 0.0000, 0.1000, 0.0500, 0.0000, 0.0000, 0.0000, 0.0000, 0.0500,\n",
       "        0.0500, 0.0500, 0.0000, 0.0000, 0.0500, 0.0000, 0.0500, 0.0000, 0.0000,\n",
       "        0.0000, 0.0000, 0.1000, 0.0000, 0.1000, 0.0000, 0.0500, 0.0500, 0.0000,\n",
       "        0.0500, 0.0000, 0.0000, 0.0000, 0.0000, 0.0000, 0.0500, 0.0500, 0.0000,\n",
       "        0.0000, 0.0500, 0.0000, 0.0000, 0.0000, 0.0000, 0.0000, 0.0000, 0.0000,\n",
       "        0.0000, 0.0000, 0.0000, 0.0000, 0.0000])"
      ]
     },
     "execution_count": 17,
     "metadata": {},
     "output_type": "execute_result"
    }
   ],
   "source": [
    "dist / (T*2)"
   ]
  },
  {
   "cell_type": "code",
   "execution_count": 22,
   "metadata": {},
   "outputs": [
    {
     "data": {
      "text/plain": [
       "tensor([[[ 0.0040,  0.9420],\n",
       "         [ 0.5901, -1.5170]],\n",
       "\n",
       "        [[-1.7792, -0.1886],\n",
       "         [-0.5103,  0.1227]],\n",
       "\n",
       "        [[-1.1521, -0.6097],\n",
       "         [ 0.8428,  1.3517]],\n",
       "\n",
       "        [[-1.0177,  1.8646],\n",
       "         [ 2.5531, -0.0660]]])"
      ]
     },
     "execution_count": 22,
     "metadata": {},
     "output_type": "execute_result"
    }
   ],
   "source": [
    "dec = torch.randn(4, 2, 2)\n",
    "residual_q = torch.ones(4,2,2)\n",
    "mask = (\n",
    "                torch.full((dec.shape[0],), fill_value=False, device=dec.device)\n",
    "            )\n",
    "residual_q *= mask[:, None, None]\n",
    "dec"
   ]
  },
  {
   "cell_type": "code",
   "execution_count": 23,
   "metadata": {},
   "outputs": [
    {
     "data": {
      "text/plain": [
       "tensor([[[0., 0.],\n",
       "         [0., 0.]],\n",
       "\n",
       "        [[0., 0.],\n",
       "         [0., 0.]],\n",
       "\n",
       "        [[0., 0.],\n",
       "         [0., 0.]],\n",
       "\n",
       "        [[0., 0.],\n",
       "         [0., 0.]]])"
      ]
     },
     "execution_count": 23,
     "metadata": {},
     "output_type": "execute_result"
    }
   ],
   "source": [
    "residual_q"
   ]
  },
  {
   "cell_type": "code",
   "execution_count": 24,
   "metadata": {},
   "outputs": [
    {
     "data": {
      "text/plain": [
       "tensor([[[ 0.0040,  0.9420],\n",
       "         [ 0.5901, -1.5170]],\n",
       "\n",
       "        [[-1.7792, -0.1886],\n",
       "         [-0.5103,  0.1227]],\n",
       "\n",
       "        [[-1.1521, -0.6097],\n",
       "         [ 0.8428,  1.3517]],\n",
       "\n",
       "        [[-1.0177,  1.8646],\n",
       "         [ 2.5531, -0.0660]]])"
      ]
     },
     "execution_count": 24,
     "metadata": {},
     "output_type": "execute_result"
    }
   ],
   "source": [
    "torch.nn.Identity()(residual_q + dec)"
   ]
  },
  {
   "cell_type": "code",
   "execution_count": null,
   "metadata": {},
   "outputs": [],
   "source": []
  }
 ],
 "metadata": {
  "kernelspec": {
   "display_name": "Python 3.9.6 64-bit",
   "language": "python",
   "name": "python3"
  },
  "language_info": {
   "codemirror_mode": {
    "name": "ipython",
    "version": 3
   },
   "file_extension": ".py",
   "mimetype": "text/x-python",
   "name": "python",
   "nbconvert_exporter": "python",
   "pygments_lexer": "ipython3",
   "version": "3.9.0"
  },
  "orig_nbformat": 4,
  "vscode": {
   "interpreter": {
    "hash": "31f2aee4e71d21fbe5cf8b01ff0e069b9275f58929596ceb00d14d90e3e16cd6"
   }
  }
 },
 "nbformat": 4,
 "nbformat_minor": 2
}
