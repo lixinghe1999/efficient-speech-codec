{
 "cells": [
  {
   "cell_type": "code",
   "execution_count": 21,
   "metadata": {},
   "outputs": [],
   "source": [
    "from codebook import Codebook\n",
    "\n",
    "vq = Codebook(\n",
    "    input_size=4,\n",
    "    embedding_size=4,\n",
    "    num_embedding=4,\n",
    "    use_cosine_sim=True\n",
    ")\n",
    "\n",
    "import torch\n",
    "T = 5\n",
    "x = torch.randn(2, T, 4)"
   ]
  },
  {
   "cell_type": "code",
   "execution_count": 36,
   "metadata": {},
   "outputs": [],
   "source": [
    "code = vq.quantize_to_code(x)\n",
    "\n",
    "code.shape, code\n",
    "\n",
    "code = torch.tensor([[0,1,1,3],[0,1,2,3]])\n",
    "code1 = torch.tensor([[0,0,1,3],[0,1,2,3]])"
   ]
  },
  {
   "cell_type": "code",
   "execution_count": 41,
   "metadata": {},
   "outputs": [
    {
     "data": {
      "text/plain": [
       "tensor([5, 5, 2, 4])"
      ]
     },
     "execution_count": 41,
     "metadata": {},
     "output_type": "execute_result"
    }
   ],
   "source": [
    "F.one_hot(code, num_classes=4).view(-1,4).sum(0) + F.one_hot(code1, num_classes=4).view(-1,4).sum(0)"
   ]
  },
  {
   "cell_type": "code",
   "execution_count": 38,
   "metadata": {},
   "outputs": [
    {
     "data": {
      "text/plain": [
       "tensor([0.3750, 0.2500, 0.1250, 0.2500])"
      ]
     },
     "execution_count": 38,
     "metadata": {},
     "output_type": "execute_result"
    }
   ],
   "source": [
    "F.one_hot(code1, num_classes=4).view(-1,4).float().mean(0)"
   ]
  },
  {
   "cell_type": "code",
   "execution_count": 35,
   "metadata": {},
   "outputs": [
    {
     "data": {
      "text/plain": [
       "tensor([0.2500, 0.3750, 0.1250, 0.2500])"
      ]
     },
     "execution_count": 35,
     "metadata": {},
     "output_type": "execute_result"
    }
   ],
   "source": [
    "import torch.nn.functional as F\n",
    "e_mean = F.one_hot(code, num_classes=4).view(-1, 4).float().mean(0)\n",
    "e_mean"
   ]
  },
  {
   "cell_type": "code",
   "execution_count": 42,
   "metadata": {},
   "outputs": [
    {
     "data": {
      "text/plain": [
       "tensor([[1., 0., 0., 0.],\n",
       "        [0., 1., 0., 0.],\n",
       "        [0., 1., 0., 0.],\n",
       "        [0., 0., 0., 1.],\n",
       "        [1., 0., 0., 0.],\n",
       "        [0., 1., 0., 0.],\n",
       "        [0., 0., 1., 0.],\n",
       "        [0., 0., 0., 1.]])"
      ]
     },
     "execution_count": 42,
     "metadata": {},
     "output_type": "execute_result"
    }
   ],
   "source": [
    "F.one_hot(code, num_classes=4).view(-1, 4).float()"
   ]
  },
  {
   "cell_type": "code",
   "execution_count": 29,
   "metadata": {},
   "outputs": [
    {
     "data": {
      "text/plain": [
       "torch.Size([2, 3, 10])"
      ]
     },
     "execution_count": 29,
     "metadata": {},
     "output_type": "execute_result"
    }
   ],
   "source": [
    "torch.stack([torch.randn(2,10), torch.randn(2,10), torch.randn(2,10)], dim=1).shape"
   ]
  },
  {
   "cell_type": "code",
   "execution_count": 26,
   "metadata": {},
   "outputs": [
    {
     "data": {
      "text/plain": [
       "tensor(4.)"
      ]
     },
     "execution_count": 26,
     "metadata": {},
     "output_type": "execute_result"
    }
   ],
   "source": [
    "perplexity = torch.exp(-torch.sum(e_mean * torch.log(e_mean + 1e-10)))\n",
    "perplexity"
   ]
  },
  {
   "cell_type": "code",
   "execution_count": 28,
   "metadata": {},
   "outputs": [
    {
     "data": {
      "text/plain": [
       "tensor([[0.2000, 0.0000, 0.0000,  ..., 0.0000, 0.0000, 0.0000],\n",
       "        [0.0000, 0.0000, 0.2000,  ..., 0.0000, 0.0000, 0.0000]])"
      ]
     },
     "execution_count": 28,
     "metadata": {},
     "output_type": "execute_result"
    }
   ],
   "source": [
    "one_hot = torch.nn.functional.one_hot(code, num_classes=1024)\n",
    "counts = one_hot.sum(dim=1)\n",
    "counts / T"
   ]
  },
  {
   "cell_type": "code",
   "execution_count": 17,
   "metadata": {},
   "outputs": [
    {
     "data": {
      "text/plain": [
       "tensor([0.1000, 0.0000, 0.1000, 0.0500, 0.0000, 0.0000, 0.0000, 0.0000, 0.0500,\n",
       "        0.0500, 0.0500, 0.0000, 0.0000, 0.0500, 0.0000, 0.0500, 0.0000, 0.0000,\n",
       "        0.0000, 0.0000, 0.1000, 0.0000, 0.1000, 0.0000, 0.0500, 0.0500, 0.0000,\n",
       "        0.0500, 0.0000, 0.0000, 0.0000, 0.0000, 0.0000, 0.0500, 0.0500, 0.0000,\n",
       "        0.0000, 0.0500, 0.0000, 0.0000, 0.0000, 0.0000, 0.0000, 0.0000, 0.0000,\n",
       "        0.0000, 0.0000, 0.0000, 0.0000, 0.0000])"
      ]
     },
     "execution_count": 17,
     "metadata": {},
     "output_type": "execute_result"
    }
   ],
   "source": [
    "dist / (T*2)"
   ]
  },
  {
   "cell_type": "code",
   "execution_count": 22,
   "metadata": {},
   "outputs": [
    {
     "data": {
      "text/plain": [
       "tensor([[[ 0.0040,  0.9420],\n",
       "         [ 0.5901, -1.5170]],\n",
       "\n",
       "        [[-1.7792, -0.1886],\n",
       "         [-0.5103,  0.1227]],\n",
       "\n",
       "        [[-1.1521, -0.6097],\n",
       "         [ 0.8428,  1.3517]],\n",
       "\n",
       "        [[-1.0177,  1.8646],\n",
       "         [ 2.5531, -0.0660]]])"
      ]
     },
     "execution_count": 22,
     "metadata": {},
     "output_type": "execute_result"
    }
   ],
   "source": [
    "dec = torch.randn(4, 2, 2)\n",
    "residual_q = torch.ones(4,2,2)\n",
    "mask = (\n",
    "                torch.full((dec.shape[0],), fill_value=False, device=dec.device)\n",
    "            )\n",
    "residual_q *= mask[:, None, None]\n",
    "dec"
   ]
  },
  {
   "cell_type": "code",
   "execution_count": 23,
   "metadata": {},
   "outputs": [
    {
     "data": {
      "text/plain": [
       "tensor([[[0., 0.],\n",
       "         [0., 0.]],\n",
       "\n",
       "        [[0., 0.],\n",
       "         [0., 0.]],\n",
       "\n",
       "        [[0., 0.],\n",
       "         [0., 0.]],\n",
       "\n",
       "        [[0., 0.],\n",
       "         [0., 0.]]])"
      ]
     },
     "execution_count": 23,
     "metadata": {},
     "output_type": "execute_result"
    }
   ],
   "source": [
    "residual_q"
   ]
  },
  {
   "cell_type": "code",
   "execution_count": 24,
   "metadata": {},
   "outputs": [
    {
     "data": {
      "text/plain": [
       "tensor([[[ 0.0040,  0.9420],\n",
       "         [ 0.5901, -1.5170]],\n",
       "\n",
       "        [[-1.7792, -0.1886],\n",
       "         [-0.5103,  0.1227]],\n",
       "\n",
       "        [[-1.1521, -0.6097],\n",
       "         [ 0.8428,  1.3517]],\n",
       "\n",
       "        [[-1.0177,  1.8646],\n",
       "         [ 2.5531, -0.0660]]])"
      ]
     },
     "execution_count": 24,
     "metadata": {},
     "output_type": "execute_result"
    }
   ],
   "source": [
    "torch.nn.Identity()(residual_q + dec)"
   ]
  },
  {
   "cell_type": "code",
   "execution_count": 1,
   "metadata": {},
   "outputs": [],
   "source": [
    "from finite_scalar_quantize import FSQ\n",
    "fsq = FSQ(levels=[2]*2, num_codebooks=1, dim=6, )"
   ]
  },
  {
   "cell_type": "code",
   "execution_count": 2,
   "metadata": {},
   "outputs": [
    {
     "data": {
      "text/plain": [
       "True"
      ]
     },
     "execution_count": 2,
     "metadata": {},
     "output_type": "execute_result"
    }
   ],
   "source": [
    "fsq.training"
   ]
  },
  {
   "cell_type": "code",
   "execution_count": 3,
   "metadata": {},
   "outputs": [
    {
     "data": {
      "text/plain": [
       "False"
      ]
     },
     "execution_count": 3,
     "metadata": {},
     "output_type": "execute_result"
    }
   ],
   "source": [
    "fsq.eval()\n",
    "fsq.training"
   ]
  },
  {
   "cell_type": "code",
   "execution_count": 4,
   "metadata": {},
   "outputs": [
    {
     "data": {
      "text/plain": [
       "tensor([[[-0.2831,  0.1810,  1.0986, -1.2818,  0.7840, -1.2412],\n",
       "         [ 0.0375, -0.7446,  0.9225, -1.0288,  0.2784, -0.0822]]])"
      ]
     },
     "execution_count": 4,
     "metadata": {},
     "output_type": "execute_result"
    }
   ],
   "source": [
    "import torch\n",
    "x = torch.randn(1, 2, 6)\n",
    "x"
   ]
  },
  {
   "cell_type": "code",
   "execution_count": 5,
   "metadata": {},
   "outputs": [
    {
     "name": "stdout",
     "output_type": "stream",
     "text": [
      "torch.Size([1, 2, 6]) torch.Size([1, 2])\n"
     ]
    },
    {
     "data": {
      "text/plain": [
       "(tensor([[[ 0.4075,  0.2481,  0.1417,  0.4198, -0.5422, -0.1975],\n",
       "          [ 0.4075,  0.2481,  0.1417,  0.4198, -0.5422, -0.1975]]],\n",
       "        grad_fn=<ViewBackward0>),\n",
       " tensor([[3, 3]], dtype=torch.int32))"
      ]
     },
     "execution_count": 5,
     "metadata": {},
     "output_type": "execute_result"
    }
   ],
   "source": [
    "out, indices = fsq(x)\n",
    "print(out.shape, indices.shape)\n",
    "out, indices"
   ]
  },
  {
   "cell_type": "code",
   "execution_count": 6,
   "metadata": {},
   "outputs": [
    {
     "name": "stdout",
     "output_type": "stream",
     "text": [
      "True\n",
      "torch.Size([1, 2, 6]) torch.Size([1, 2])\n"
     ]
    },
    {
     "data": {
      "text/plain": [
       "(tensor([[[ 0.4075,  0.2481,  0.1417,  0.4198, -0.5422, -0.1975],\n",
       "          [ 0.4075,  0.2481,  0.1417,  0.4198, -0.5422, -0.1975]]],\n",
       "        grad_fn=<ViewBackward0>),\n",
       " tensor([[3, 3]], dtype=torch.int32))"
      ]
     },
     "execution_count": 6,
     "metadata": {},
     "output_type": "execute_result"
    }
   ],
   "source": [
    "fsq.train()\n",
    "print(fsq.training)\n",
    "\n",
    "out, indices = fsq(x)\n",
    "print(out.shape, indices.shape)\n",
    "out, indices"
   ]
  },
  {
   "cell_type": "code",
   "execution_count": null,
   "metadata": {},
   "outputs": [],
   "source": []
  }
 ],
 "metadata": {
  "kernelspec": {
   "display_name": "Python 3.8.10 ('base')",
   "language": "python",
   "name": "python3"
  },
  "language_info": {
   "codemirror_mode": {
    "name": "ipython",
    "version": 3
   },
   "file_extension": ".py",
   "mimetype": "text/x-python",
   "name": "python",
   "nbconvert_exporter": "python",
   "pygments_lexer": "ipython3",
   "version": "3.8.10"
  },
  "orig_nbformat": 4,
  "vscode": {
   "interpreter": {
    "hash": "2f394aca7ca06fed1e6064aef884364492d7cdda3614a461e02e6407fc40ba69"
   }
  }
 },
 "nbformat": 4,
 "nbformat_minor": 2
}
