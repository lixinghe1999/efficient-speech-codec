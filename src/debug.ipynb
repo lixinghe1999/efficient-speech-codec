{
 "cells": [
  {
   "cell_type": "code",
   "execution_count": 2,
   "metadata": {},
   "outputs": [
    {
     "name": "stdout",
     "output_type": "stream",
     "text": [
      "Apply Residual-Based Cross Attention Fusion Net for Swin Codec | Type: window\n",
      "Quantization Vis: \n",
      "     Freq dims:  [2, 2, 4, 8, 16, 32]\n",
      "     Channel(hidden) dims:  [384, 384, 192, 96, 72, 45]\n",
      "     projections from:  [768, 768, 768, 768, 1152, 1440]\n",
      "     projections to:  [192, 192, 384, 384, 576, 720]\n",
      "     group_vq_dims:  [384, 384, 768, 768, 1152, 1440]\n"
     ]
    }
   ],
   "source": [
    "import torch, json\n",
    "from models.codec import SwinCrossScaleCodec\n",
    "\n",
    "config = json.load(open(\"/Users/tracy/Desktop/swin-18k-scale-baseline/config.json\", 'r'))\n",
    "# model = SwinCrossScaleCodec(**config)\n",
    "model = SwinCrossScaleCodec(patch_size = [3,2],\n",
    "                 swin_depth = 2,\n",
    "                 swin_heads = [3,3,6,12,24],\n",
    "                 window_size = 4,\n",
    "                 mlp_ratio = 4.,\n",
    "                 in_dim = 2, \n",
    "                 in_freq = 192, \n",
    "                 h_dims = [45, 45, 72, 96, 192, 384], \n",
    "                 max_streams = 6, \n",
    "                 proj = [4,4,2,2,2,2], \n",
    "                 fuse_net = \"window\",\n",
    "                 overlap = 2, \n",
    "                 num_vqs = 6, \n",
    "                 codebook_size = 1024, )\n",
    "# model.load_state_dict(torch.load(\"/Users/tracy/Desktop/swin-18k-scale-baseline/best.pt\", map_location=\"cpu\")[\"model_state_dict\"])"
   ]
  },
  {
   "cell_type": "code",
   "execution_count": 4,
   "metadata": {},
   "outputs": [
    {
     "data": {
      "text/plain": [
       "SwinCrossScaleDecoder(\n",
       "  (patch_deembed): PatchDeEmbed(\n",
       "    (de_proj1): Conv2d(45, 270, kernel_size=(5, 5), stride=(1, 1), padding=(2, 2))\n",
       "    (de_proj2): Conv2d(45, 2, kernel_size=(3, 3), stride=(1, 1), padding=(1, 1))\n",
       "  )\n",
       "  (blocks): ModuleList(\n",
       "    (0): SwinTLayer(\n",
       "      (swint_blocks): ModuleList(\n",
       "        (0-1): 2 x SwinTBlock(\n",
       "          (norm1): LayerNorm((384,), eps=1e-05, elementwise_affine=True)\n",
       "          (attn): WindowAttention(\n",
       "            (qkv): Linear(in_features=384, out_features=1152, bias=True)\n",
       "            (attn_drop): Dropout(p=0.0, inplace=False)\n",
       "            (proj): Linear(in_features=384, out_features=384, bias=True)\n",
       "            (proj_drop): Dropout(p=0.0, inplace=False)\n",
       "            (softmax): Softmax(dim=-1)\n",
       "          )\n",
       "          (norm2): LayerNorm((384,), eps=1e-05, elementwise_affine=True)\n",
       "          (mlp): FeedForward(\n",
       "            (linear_1): Linear(in_features=384, out_features=1536, bias=True)\n",
       "            (dropout): Dropout(p=0.0, inplace=False)\n",
       "            (linear_2): Linear(in_features=1536, out_features=384, bias=True)\n",
       "            (act_layer): GELU(approximate='none')\n",
       "          )\n",
       "        )\n",
       "      )\n",
       "      (subsample): PatchSplit(\n",
       "        (up_map): Linear(in_features=384, out_features=384, bias=False)\n",
       "        (norm): LayerNorm((384,), eps=1e-05, elementwise_affine=True)\n",
       "      )\n",
       "    )\n",
       "    (1): SwinTLayer(\n",
       "      (swint_blocks): ModuleList(\n",
       "        (0-1): 2 x SwinTBlock(\n",
       "          (norm1): LayerNorm((192,), eps=1e-05, elementwise_affine=True)\n",
       "          (attn): WindowAttention(\n",
       "            (qkv): Linear(in_features=192, out_features=576, bias=True)\n",
       "            (attn_drop): Dropout(p=0.0, inplace=False)\n",
       "            (proj): Linear(in_features=192, out_features=192, bias=True)\n",
       "            (proj_drop): Dropout(p=0.0, inplace=False)\n",
       "            (softmax): Softmax(dim=-1)\n",
       "          )\n",
       "          (norm2): LayerNorm((192,), eps=1e-05, elementwise_affine=True)\n",
       "          (mlp): FeedForward(\n",
       "            (linear_1): Linear(in_features=192, out_features=768, bias=True)\n",
       "            (dropout): Dropout(p=0.0, inplace=False)\n",
       "            (linear_2): Linear(in_features=768, out_features=192, bias=True)\n",
       "            (act_layer): GELU(approximate='none')\n",
       "          )\n",
       "        )\n",
       "      )\n",
       "      (subsample): PatchSplit(\n",
       "        (up_map): Linear(in_features=192, out_features=192, bias=False)\n",
       "        (norm): LayerNorm((192,), eps=1e-05, elementwise_affine=True)\n",
       "      )\n",
       "    )\n",
       "    (2): SwinTLayer(\n",
       "      (swint_blocks): ModuleList(\n",
       "        (0-1): 2 x SwinTBlock(\n",
       "          (norm1): LayerNorm((96,), eps=1e-05, elementwise_affine=True)\n",
       "          (attn): WindowAttention(\n",
       "            (qkv): Linear(in_features=96, out_features=288, bias=True)\n",
       "            (attn_drop): Dropout(p=0.0, inplace=False)\n",
       "            (proj): Linear(in_features=96, out_features=96, bias=True)\n",
       "            (proj_drop): Dropout(p=0.0, inplace=False)\n",
       "            (softmax): Softmax(dim=-1)\n",
       "          )\n",
       "          (norm2): LayerNorm((96,), eps=1e-05, elementwise_affine=True)\n",
       "          (mlp): FeedForward(\n",
       "            (linear_1): Linear(in_features=96, out_features=384, bias=True)\n",
       "            (dropout): Dropout(p=0.0, inplace=False)\n",
       "            (linear_2): Linear(in_features=384, out_features=96, bias=True)\n",
       "            (act_layer): GELU(approximate='none')\n",
       "          )\n",
       "        )\n",
       "      )\n",
       "      (subsample): PatchSplit(\n",
       "        (up_map): Linear(in_features=96, out_features=144, bias=False)\n",
       "        (norm): LayerNorm((96,), eps=1e-05, elementwise_affine=True)\n",
       "      )\n",
       "    )\n",
       "    (3): SwinTLayer(\n",
       "      (swint_blocks): ModuleList(\n",
       "        (0-1): 2 x SwinTBlock(\n",
       "          (norm1): LayerNorm((72,), eps=1e-05, elementwise_affine=True)\n",
       "          (attn): WindowAttention(\n",
       "            (qkv): Linear(in_features=72, out_features=216, bias=True)\n",
       "            (attn_drop): Dropout(p=0.0, inplace=False)\n",
       "            (proj): Linear(in_features=72, out_features=72, bias=True)\n",
       "            (proj_drop): Dropout(p=0.0, inplace=False)\n",
       "            (softmax): Softmax(dim=-1)\n",
       "          )\n",
       "          (norm2): LayerNorm((72,), eps=1e-05, elementwise_affine=True)\n",
       "          (mlp): FeedForward(\n",
       "            (linear_1): Linear(in_features=72, out_features=288, bias=True)\n",
       "            (dropout): Dropout(p=0.0, inplace=False)\n",
       "            (linear_2): Linear(in_features=288, out_features=72, bias=True)\n",
       "            (act_layer): GELU(approximate='none')\n",
       "          )\n",
       "        )\n",
       "      )\n",
       "      (subsample): PatchSplit(\n",
       "        (up_map): Linear(in_features=72, out_features=90, bias=False)\n",
       "        (norm): LayerNorm((72,), eps=1e-05, elementwise_affine=True)\n",
       "      )\n",
       "    )\n",
       "    (4): SwinTLayer(\n",
       "      (swint_blocks): ModuleList(\n",
       "        (0-1): 2 x SwinTBlock(\n",
       "          (norm1): LayerNorm((45,), eps=1e-05, elementwise_affine=True)\n",
       "          (attn): WindowAttention(\n",
       "            (qkv): Linear(in_features=45, out_features=135, bias=True)\n",
       "            (attn_drop): Dropout(p=0.0, inplace=False)\n",
       "            (proj): Linear(in_features=45, out_features=45, bias=True)\n",
       "            (proj_drop): Dropout(p=0.0, inplace=False)\n",
       "            (softmax): Softmax(dim=-1)\n",
       "          )\n",
       "          (norm2): LayerNorm((45,), eps=1e-05, elementwise_affine=True)\n",
       "          (mlp): FeedForward(\n",
       "            (linear_1): Linear(in_features=45, out_features=180, bias=True)\n",
       "            (dropout): Dropout(p=0.0, inplace=False)\n",
       "            (linear_2): Linear(in_features=180, out_features=45, bias=True)\n",
       "            (act_layer): GELU(approximate='none')\n",
       "          )\n",
       "        )\n",
       "      )\n",
       "      (subsample): PatchSplit(\n",
       "        (up_map): Linear(in_features=45, out_features=90, bias=False)\n",
       "        (norm): LayerNorm((45,), eps=1e-05, elementwise_affine=True)\n",
       "      )\n",
       "    )\n",
       "  )\n",
       "  (pre_fuse_net): ModuleList(\n",
       "    (0): WindowAlignment(\n",
       "      (attn): CrossWindowAttention(\n",
       "        (q_matrix): Linear(in_features=384, out_features=384, bias=True)\n",
       "        (k_matrix): Linear(in_features=384, out_features=384, bias=True)\n",
       "        (v_matrix): Linear(in_features=384, out_features=384, bias=True)\n",
       "        (proj): Linear(in_features=384, out_features=384, bias=True)\n",
       "        (softmax): Softmax(dim=-1)\n",
       "      )\n",
       "      (norm1): LayerNorm((384,), eps=1e-05, elementwise_affine=True)\n",
       "      (norm2): LayerNorm((384,), eps=1e-05, elementwise_affine=True)\n",
       "    )\n",
       "    (1): WindowAlignment(\n",
       "      (attn): CrossWindowAttention(\n",
       "        (q_matrix): Linear(in_features=192, out_features=192, bias=True)\n",
       "        (k_matrix): Linear(in_features=192, out_features=192, bias=True)\n",
       "        (v_matrix): Linear(in_features=192, out_features=192, bias=True)\n",
       "        (proj): Linear(in_features=192, out_features=192, bias=True)\n",
       "        (softmax): Softmax(dim=-1)\n",
       "      )\n",
       "      (norm1): LayerNorm((192,), eps=1e-05, elementwise_affine=True)\n",
       "      (norm2): LayerNorm((192,), eps=1e-05, elementwise_affine=True)\n",
       "    )\n",
       "    (2): WindowAlignment(\n",
       "      (attn): CrossWindowAttention(\n",
       "        (q_matrix): Linear(in_features=96, out_features=96, bias=True)\n",
       "        (k_matrix): Linear(in_features=96, out_features=96, bias=True)\n",
       "        (v_matrix): Linear(in_features=96, out_features=96, bias=True)\n",
       "        (proj): Linear(in_features=96, out_features=96, bias=True)\n",
       "        (softmax): Softmax(dim=-1)\n",
       "      )\n",
       "      (norm1): LayerNorm((96,), eps=1e-05, elementwise_affine=True)\n",
       "      (norm2): LayerNorm((96,), eps=1e-05, elementwise_affine=True)\n",
       "    )\n",
       "    (3): WindowAlignment(\n",
       "      (attn): CrossWindowAttention(\n",
       "        (q_matrix): Linear(in_features=72, out_features=72, bias=True)\n",
       "        (k_matrix): Linear(in_features=72, out_features=72, bias=True)\n",
       "        (v_matrix): Linear(in_features=72, out_features=72, bias=True)\n",
       "        (proj): Linear(in_features=72, out_features=72, bias=True)\n",
       "        (softmax): Softmax(dim=-1)\n",
       "      )\n",
       "      (norm1): LayerNorm((72,), eps=1e-05, elementwise_affine=True)\n",
       "      (norm2): LayerNorm((72,), eps=1e-05, elementwise_affine=True)\n",
       "    )\n",
       "    (4): WindowAlignment(\n",
       "      (attn): CrossWindowAttention(\n",
       "        (q_matrix): Linear(in_features=45, out_features=45, bias=True)\n",
       "        (k_matrix): Linear(in_features=45, out_features=45, bias=True)\n",
       "        (v_matrix): Linear(in_features=45, out_features=45, bias=True)\n",
       "        (proj): Linear(in_features=45, out_features=45, bias=True)\n",
       "        (softmax): Softmax(dim=-1)\n",
       "      )\n",
       "      (norm1): LayerNorm((45,), eps=1e-05, elementwise_affine=True)\n",
       "      (norm2): LayerNorm((45,), eps=1e-05, elementwise_affine=True)\n",
       "    )\n",
       "  )\n",
       "  (post_fuse_net): ModuleList(\n",
       "    (0): WindowAlignment(\n",
       "      (attn): CrossWindowAttention(\n",
       "        (q_matrix): Linear(in_features=384, out_features=384, bias=True)\n",
       "        (k_matrix): Linear(in_features=384, out_features=384, bias=True)\n",
       "        (v_matrix): Linear(in_features=384, out_features=384, bias=True)\n",
       "        (proj): Linear(in_features=384, out_features=384, bias=True)\n",
       "        (softmax): Softmax(dim=-1)\n",
       "      )\n",
       "      (norm1): LayerNorm((384,), eps=1e-05, elementwise_affine=True)\n",
       "      (norm2): LayerNorm((384,), eps=1e-05, elementwise_affine=True)\n",
       "    )\n",
       "    (1): WindowAlignment(\n",
       "      (attn): CrossWindowAttention(\n",
       "        (q_matrix): Linear(in_features=192, out_features=192, bias=True)\n",
       "        (k_matrix): Linear(in_features=192, out_features=192, bias=True)\n",
       "        (v_matrix): Linear(in_features=192, out_features=192, bias=True)\n",
       "        (proj): Linear(in_features=192, out_features=192, bias=True)\n",
       "        (softmax): Softmax(dim=-1)\n",
       "      )\n",
       "      (norm1): LayerNorm((192,), eps=1e-05, elementwise_affine=True)\n",
       "      (norm2): LayerNorm((192,), eps=1e-05, elementwise_affine=True)\n",
       "    )\n",
       "    (2): WindowAlignment(\n",
       "      (attn): CrossWindowAttention(\n",
       "        (q_matrix): Linear(in_features=96, out_features=96, bias=True)\n",
       "        (k_matrix): Linear(in_features=96, out_features=96, bias=True)\n",
       "        (v_matrix): Linear(in_features=96, out_features=96, bias=True)\n",
       "        (proj): Linear(in_features=96, out_features=96, bias=True)\n",
       "        (softmax): Softmax(dim=-1)\n",
       "      )\n",
       "      (norm1): LayerNorm((96,), eps=1e-05, elementwise_affine=True)\n",
       "      (norm2): LayerNorm((96,), eps=1e-05, elementwise_affine=True)\n",
       "    )\n",
       "    (3): WindowAlignment(\n",
       "      (attn): CrossWindowAttention(\n",
       "        (q_matrix): Linear(in_features=72, out_features=72, bias=True)\n",
       "        (k_matrix): Linear(in_features=72, out_features=72, bias=True)\n",
       "        (v_matrix): Linear(in_features=72, out_features=72, bias=True)\n",
       "        (proj): Linear(in_features=72, out_features=72, bias=True)\n",
       "        (softmax): Softmax(dim=-1)\n",
       "      )\n",
       "      (norm1): LayerNorm((72,), eps=1e-05, elementwise_affine=True)\n",
       "      (norm2): LayerNorm((72,), eps=1e-05, elementwise_affine=True)\n",
       "    )\n",
       "    (4): WindowAlignment(\n",
       "      (attn): CrossWindowAttention(\n",
       "        (q_matrix): Linear(in_features=45, out_features=45, bias=True)\n",
       "        (k_matrix): Linear(in_features=45, out_features=45, bias=True)\n",
       "        (v_matrix): Linear(in_features=45, out_features=45, bias=True)\n",
       "        (proj): Linear(in_features=45, out_features=45, bias=True)\n",
       "        (softmax): Softmax(dim=-1)\n",
       "      )\n",
       "      (norm1): LayerNorm((45,), eps=1e-05, elementwise_affine=True)\n",
       "      (norm2): LayerNorm((45,), eps=1e-05, elementwise_affine=True)\n",
       "    )\n",
       "  )\n",
       "  (post_swin): SwinTLayer(\n",
       "    (swint_blocks): ModuleList(\n",
       "      (0-1): 2 x SwinTBlock(\n",
       "        (norm1): LayerNorm((45,), eps=1e-05, elementwise_affine=True)\n",
       "        (attn): WindowAttention(\n",
       "          (qkv): Linear(in_features=45, out_features=135, bias=True)\n",
       "          (attn_drop): Dropout(p=0.0, inplace=False)\n",
       "          (proj): Linear(in_features=45, out_features=45, bias=True)\n",
       "          (proj_drop): Dropout(p=0.0, inplace=False)\n",
       "          (softmax): Softmax(dim=-1)\n",
       "        )\n",
       "        (norm2): LayerNorm((45,), eps=1e-05, elementwise_affine=True)\n",
       "        (mlp): FeedForward(\n",
       "          (linear_1): Linear(in_features=45, out_features=180, bias=True)\n",
       "          (dropout): Dropout(p=0.0, inplace=False)\n",
       "          (linear_2): Linear(in_features=180, out_features=45, bias=True)\n",
       "          (act_layer): GELU(approximate='none')\n",
       "        )\n",
       "      )\n",
       "    )\n",
       "  )\n",
       ")"
      ]
     },
     "execution_count": 4,
     "metadata": {},
     "output_type": "execute_result"
    }
   ],
   "source": [
    "model.decoder"
   ]
  },
  {
   "cell_type": "code",
   "execution_count": 5,
   "metadata": {},
   "outputs": [],
   "source": [
    "import torchaudio\n",
    "import torch\n",
    "audio_path = \"/Users/tracy/Desktop/Audio_Codec/swin-debug-vis/test/spanish_instance1.wav\"\n",
    "model.eval()\n",
    "x, sr = torchaudio.load(audio_path)\n",
    "x = x[:, :-80]"
   ]
  },
  {
   "cell_type": "code",
   "execution_count": 12,
   "metadata": {},
   "outputs": [
    {
     "data": {
      "text/plain": [
       "torch.Size([1, 192, 2000])"
      ]
     },
     "execution_count": 12,
     "metadata": {},
     "output_type": "execute_result"
    }
   ],
   "source": [
    "model.ft(x).shape"
   ]
  },
  {
   "cell_type": "code",
   "execution_count": 13,
   "metadata": {},
   "outputs": [],
   "source": [
    "model.train()\n",
    "outputs = model.train_one_step(x, None, streams=6)\n",
    "\n",
    "model.eval()\n",
    "with torch.inference_mode():\n",
    "   test_outputs =  model.test_one_step(x, None, streams=6)"
   ]
  },
  {
   "cell_type": "code",
   "execution_count": 11,
   "metadata": {},
   "outputs": [],
   "source": [
    "import torch.nn as nn\n",
    "import torch\n",
    "\n",
    "embed_dim = 6 \n",
    "num_heads = 1\n",
    "\n",
    "multihead_attn = nn.MultiheadAttention(\n",
    "                                embed_dim=embed_dim,\n",
    "                                num_heads=num_heads,\n",
    "                                dropout=0.0,\n",
    "                                bias=False,\n",
    "                                batch_first=True)\n",
    "\n",
    "x = torch.randn(1, 10, 6)\n",
    "\n",
    "attn_output, attn_output_weights = multihead_attn(query=x, key=x, value=x)"
   ]
  },
  {
   "cell_type": "code",
   "execution_count": 19,
   "metadata": {},
   "outputs": [
    {
     "data": {
      "text/plain": [
       "[2, 2, 4, 8, 16, 32]"
      ]
     },
     "execution_count": 19,
     "metadata": {},
     "output_type": "execute_result"
    }
   ],
   "source": [
    "in_freq = 192\n",
    "patch_size = (3,2)\n",
    "max_streams=6\n",
    "[(in_freq//patch_size[0])//2**(max_streams-1)] + [(in_freq//patch_size[0])//2**i for i in range(max_streams-1, 0, -1)]"
   ]
  },
  {
   "cell_type": "code",
   "execution_count": 13,
   "metadata": {},
   "outputs": [
    {
     "name": "stderr",
     "output_type": "stream",
     "text": [
      "/Library/Frameworks/Python.framework/Versions/3.9/lib/python3.9/site-packages/torch/functional.py:504: UserWarning: torch.meshgrid: in an upcoming release, it will be required to pass the indexing argument. (Triggered internally at /Users/runner/work/pytorch/pytorch/pytorch/aten/src/ATen/native/TensorShape.cpp:3484.)\n",
      "  return _VF.meshgrid(tensors, **kwargs)  # type: ignore[attr-defined]\n"
     ]
    },
    {
     "name": "stdout",
     "output_type": "stream",
     "text": [
      "Use Attn Fuse Merge Net for Swin Codec\n",
      "Audio Codec 18.0kbps Initialized\n",
      "Quantization Vis: \n",
      "     Freq dims:  [2, 2, 4, 8, 16, 32]\n",
      "     Channel(hidden) dims:  [384, 384, 192, 96, 72, 45]\n",
      "     projections from:  [768, 768, 768, 768, 1152, 1440]\n",
      "     projections to:  [192, 192, 384, 384, 576, 720]\n",
      "     group_vq_dims:  [384, 384, 768, 768, 1152, 1440]\n",
      "enc shape torch.Size([1, 600, 384]) dec shape torch.Size([1, 600, 384])\n",
      "pre_fuse 0 Sequential(\n",
      "  (0): MultiheadAttention(\n",
      "    (out_proj): NonDynamicallyQuantizableLinear(in_features=384, out_features=384, bias=False)\n",
      "  )\n",
      ")\n",
      "Sequential(\n",
      "  (0): MultiheadAttention(\n",
      "    (out_proj): NonDynamicallyQuantizableLinear(in_features=384, out_features=384, bias=False)\n",
      "  )\n",
      ")\n",
      "<bound method Sequential.forward of Sequential(\n",
      "  (0): MultiheadAttention(\n",
      "    (out_proj): NonDynamicallyQuantizableLinear(in_features=384, out_features=384, bias=False)\n",
      "  )\n",
      ")>\n"
     ]
    },
    {
     "ename": "TypeError",
     "evalue": "forward() got an unexpected keyword argument 'query'",
     "output_type": "error",
     "traceback": [
      "\u001b[0;31m---------------------------------------------------------------------------\u001b[0m",
      "\u001b[0;31mTypeError\u001b[0m                                 Traceback (most recent call last)",
      "\u001b[1;32m/Users/tracy/Library/CloudStorage/GoogleDrive-cloudstorage.yuzhe@gmail.com/My Drive/Research/Audio_Signal_Coding/Deep-Audio-Signal-Coding/baselines/debug.ipynb Cell 6\u001b[0m line \u001b[0;36m<cell line: 16>\u001b[0;34m()\u001b[0m\n\u001b[1;32m      <a href='vscode-notebook-cell:/Users/tracy/Library/CloudStorage/GoogleDrive-cloudstorage.yuzhe%40gmail.com/My%20Drive/Research/Audio_Signal_Coding/Deep-Audio-Signal-Coding/baselines/debug.ipynb#X46sZmlsZQ%3D%3D?line=0'>1</a>\u001b[0m \u001b[39mfrom\u001b[39;00m \u001b[39mmodels\u001b[39;00m\u001b[39m.\u001b[39;00m\u001b[39mcodec\u001b[39;00m \u001b[39mimport\u001b[39;00m SwinCrossScaleCodec\n\u001b[1;32m      <a href='vscode-notebook-cell:/Users/tracy/Library/CloudStorage/GoogleDrive-cloudstorage.yuzhe%40gmail.com/My%20Drive/Research/Audio_Signal_Coding/Deep-Audio-Signal-Coding/baselines/debug.ipynb#X46sZmlsZQ%3D%3D?line=1'>2</a>\u001b[0m codec \u001b[39m=\u001b[39m SwinCrossScaleCodec(patch_size \u001b[39m=\u001b[39m [\u001b[39m3\u001b[39m,\u001b[39m2\u001b[39m],\n\u001b[1;32m      <a href='vscode-notebook-cell:/Users/tracy/Library/CloudStorage/GoogleDrive-cloudstorage.yuzhe%40gmail.com/My%20Drive/Research/Audio_Signal_Coding/Deep-Audio-Signal-Coding/baselines/debug.ipynb#X46sZmlsZQ%3D%3D?line=2'>3</a>\u001b[0m                                 swin_depth \u001b[39m=\u001b[39m \u001b[39m2\u001b[39m,\n\u001b[1;32m      <a href='vscode-notebook-cell:/Users/tracy/Library/CloudStorage/GoogleDrive-cloudstorage.yuzhe%40gmail.com/My%20Drive/Research/Audio_Signal_Coding/Deep-Audio-Signal-Coding/baselines/debug.ipynb#X46sZmlsZQ%3D%3D?line=3'>4</a>\u001b[0m                                 swin_heads \u001b[39m=\u001b[39m [\u001b[39m3\u001b[39m,\u001b[39m3\u001b[39m,\u001b[39m6\u001b[39m,\u001b[39m12\u001b[39m,\u001b[39m24\u001b[39m],\n\u001b[0;32m   (...)\u001b[0m\n\u001b[1;32m     <a href='vscode-notebook-cell:/Users/tracy/Library/CloudStorage/GoogleDrive-cloudstorage.yuzhe%40gmail.com/My%20Drive/Research/Audio_Signal_Coding/Deep-Audio-Signal-Coding/baselines/debug.ipynb#X46sZmlsZQ%3D%3D?line=13'>14</a>\u001b[0m                                 codebook_size \u001b[39m=\u001b[39m \u001b[39m1024\u001b[39m, \n\u001b[1;32m     <a href='vscode-notebook-cell:/Users/tracy/Library/CloudStorage/GoogleDrive-cloudstorage.yuzhe%40gmail.com/My%20Drive/Research/Audio_Signal_Coding/Deep-Audio-Signal-Coding/baselines/debug.ipynb#X46sZmlsZQ%3D%3D?line=14'>15</a>\u001b[0m                                 fuse_net\u001b[39m=\u001b[39m\u001b[39mTrue\u001b[39;00m)\n\u001b[0;32m---> <a href='vscode-notebook-cell:/Users/tracy/Library/CloudStorage/GoogleDrive-cloudstorage.yuzhe%40gmail.com/My%20Drive/Research/Audio_Signal_Coding/Deep-Audio-Signal-Coding/baselines/debug.ipynb#X46sZmlsZQ%3D%3D?line=15'>16</a>\u001b[0m outputs \u001b[39m=\u001b[39m codec\u001b[39m.\u001b[39;49mtrain_one_step(x\u001b[39m=\u001b[39;49mtorch\u001b[39m.\u001b[39;49mrandn(\u001b[39m1\u001b[39;49m,\u001b[39m47920\u001b[39;49m),\n\u001b[1;32m     <a href='vscode-notebook-cell:/Users/tracy/Library/CloudStorage/GoogleDrive-cloudstorage.yuzhe%40gmail.com/My%20Drive/Research/Audio_Signal_Coding/Deep-Audio-Signal-Coding/baselines/debug.ipynb#X46sZmlsZQ%3D%3D?line=16'>17</a>\u001b[0m                         x_feat\u001b[39m=\u001b[39;49mtorch\u001b[39m.\u001b[39;49mrandn(\u001b[39m1\u001b[39;49m,\u001b[39m192\u001b[39;49m,\u001b[39m600\u001b[39;49m,\u001b[39m2\u001b[39;49m),\n\u001b[1;32m     <a href='vscode-notebook-cell:/Users/tracy/Library/CloudStorage/GoogleDrive-cloudstorage.yuzhe%40gmail.com/My%20Drive/Research/Audio_Signal_Coding/Deep-Audio-Signal-Coding/baselines/debug.ipynb#X46sZmlsZQ%3D%3D?line=17'>18</a>\u001b[0m                         streams\u001b[39m=\u001b[39;49m\u001b[39m6\u001b[39;49m)\n",
      "File \u001b[0;32m~/Library/CloudStorage/GoogleDrive-cloudstorage.yuzhe@gmail.com/My Drive/Research/Audio_Signal_Coding/Deep-Audio-Signal-Coding/baselines/models/codec.py:168\u001b[0m, in \u001b[0;36mSwinCrossScaleCodec.train_one_step\u001b[0;34m(self, x, x_feat, streams)\u001b[0m\n\u001b[1;32m    165\u001b[0m \u001b[39mif\u001b[39;00m \u001b[39mself\u001b[39m\u001b[39m.\u001b[39mscalable:\n\u001b[1;32m    166\u001b[0m     streams \u001b[39m=\u001b[39m np\u001b[39m.\u001b[39mrandom\u001b[39m.\u001b[39mrandint(\u001b[39m1\u001b[39m, \u001b[39mself\u001b[39m\u001b[39m.\u001b[39mmax_streams\u001b[39m+\u001b[39m\u001b[39m1\u001b[39m)\n\u001b[0;32m--> 168\u001b[0m dec_hs, vq_loss \u001b[39m=\u001b[39m \u001b[39mself\u001b[39;49m\u001b[39m.\u001b[39;49mdecoder\u001b[39m.\u001b[39;49mdecode(enc_hs, streams, vqs\u001b[39m=\u001b[39;49m\u001b[39mself\u001b[39;49m\u001b[39m.\u001b[39;49mquantizer, Wh\u001b[39m=\u001b[39;49mWh, Ww\u001b[39m=\u001b[39;49mWw)\n\u001b[1;32m    170\u001b[0m rec_feat \u001b[39m=\u001b[39m dec_hs[\u001b[39m-\u001b[39m\u001b[39m1\u001b[39m]\n\u001b[1;32m    171\u001b[0m rec_x \u001b[39m=\u001b[39m \u001b[39mself\u001b[39m\u001b[39m.\u001b[39maudio_reconstruct(rec_feat)\n",
      "File \u001b[0;32m~/Library/CloudStorage/GoogleDrive-cloudstorage.yuzhe@gmail.com/My Drive/Research/Audio_Signal_Coding/Deep-Audio-Signal-Coding/baselines/models/codec.py:505\u001b[0m, in \u001b[0;36mSwinCrossScaleDecoder.decode\u001b[0;34m(self, enc_hs, streams, vqs, Wh, Ww)\u001b[0m\n\u001b[1;32m    503\u001b[0m transmit \u001b[39m=\u001b[39m (i \u001b[39m<\u001b[39m streams\u001b[39m-\u001b[39m\u001b[39m1\u001b[39m)            \n\u001b[1;32m    504\u001b[0m \u001b[39mif\u001b[39;00m transmit:\n\u001b[0;32m--> 505\u001b[0m     dec_i_refine, vq_loss_i \u001b[39m=\u001b[39m \u001b[39mself\u001b[39;49m\u001b[39m.\u001b[39;49mcsvq_layer(enc\u001b[39m=\u001b[39;49menc_hs[\u001b[39m-\u001b[39;49m\u001b[39m1\u001b[39;49m\u001b[39m-\u001b[39;49mi], dec\u001b[39m=\u001b[39;49mdec_hs[i],\n\u001b[1;32m    506\u001b[0m                                               idx\u001b[39m=\u001b[39;49mi, vq\u001b[39m=\u001b[39;49mvqs[i\u001b[39m+\u001b[39;49m\u001b[39m1\u001b[39;49m], attn_fuse\u001b[39m=\u001b[39;49m\u001b[39mself\u001b[39;49m\u001b[39m.\u001b[39;49mfuse_net)\n\u001b[1;32m    507\u001b[0m     vq_loss \u001b[39m+\u001b[39m\u001b[39m=\u001b[39m vq_loss_i\n\u001b[1;32m    508\u001b[0m \u001b[39melse\u001b[39;00m:\n",
      "File \u001b[0;32m~/Library/CloudStorage/GoogleDrive-cloudstorage.yuzhe@gmail.com/My Drive/Research/Audio_Signal_Coding/Deep-Audio-Signal-Coding/baselines/models/codec.py:380\u001b[0m, in \u001b[0;36mBaseCrossScaleDecoder.csvq_layer\u001b[0;34m(self, enc, dec, idx, vq, attn_fuse)\u001b[0m\n\u001b[1;32m    377\u001b[0m     dec_refine \u001b[39m=\u001b[39m \u001b[39mself\u001b[39m\u001b[39m.\u001b[39mpost_fuse(residual_q, dec, idx)\n\u001b[1;32m    379\u001b[0m \u001b[39melse\u001b[39;00m:\n\u001b[0;32m--> 380\u001b[0m     residual \u001b[39m=\u001b[39m \u001b[39mself\u001b[39;49m\u001b[39m.\u001b[39;49mattn_pre_fuse(enc, dec, idx)\n\u001b[1;32m    381\u001b[0m     \u001b[39mprint\u001b[39m(idx, \u001b[39m\"\u001b[39m\u001b[39mpre_fuse_out: \u001b[39m\u001b[39m\"\u001b[39m, residual\u001b[39m.\u001b[39mshape)\n\u001b[1;32m    382\u001b[0m     residual_q, vq_loss \u001b[39m=\u001b[39m vq(residual)\n",
      "File \u001b[0;32m~/Library/CloudStorage/GoogleDrive-cloudstorage.yuzhe@gmail.com/My Drive/Research/Audio_Signal_Coding/Deep-Audio-Signal-Coding/baselines/models/codec.py:356\u001b[0m, in \u001b[0;36mBaseCrossScaleDecoder.attn_pre_fuse\u001b[0;34m(self, enc, dec, idx)\u001b[0m\n\u001b[1;32m    354\u001b[0m \u001b[39mprint\u001b[39m(mha)\n\u001b[1;32m    355\u001b[0m \u001b[39mprint\u001b[39m(mha\u001b[39m.\u001b[39mforward)\n\u001b[0;32m--> 356\u001b[0m attn_out, attn_dist \u001b[39m=\u001b[39m mha(query\u001b[39m=\u001b[39;49menc, key\u001b[39m=\u001b[39;49mdec, value\u001b[39m=\u001b[39;49mdec)\n\u001b[1;32m    358\u001b[0m residual \u001b[39m=\u001b[39m enc \u001b[39m-\u001b[39m attn_out\n\u001b[1;32m    359\u001b[0m \u001b[39mreturn\u001b[39;00m residual\n",
      "File \u001b[0;32m/Library/Frameworks/Python.framework/Versions/3.9/lib/python3.9/site-packages/torch/nn/modules/module.py:1501\u001b[0m, in \u001b[0;36mModule._call_impl\u001b[0;34m(self, *args, **kwargs)\u001b[0m\n\u001b[1;32m   1496\u001b[0m \u001b[39m# If we don't have any hooks, we want to skip the rest of the logic in\u001b[39;00m\n\u001b[1;32m   1497\u001b[0m \u001b[39m# this function, and just call forward.\u001b[39;00m\n\u001b[1;32m   1498\u001b[0m \u001b[39mif\u001b[39;00m \u001b[39mnot\u001b[39;00m (\u001b[39mself\u001b[39m\u001b[39m.\u001b[39m_backward_hooks \u001b[39mor\u001b[39;00m \u001b[39mself\u001b[39m\u001b[39m.\u001b[39m_backward_pre_hooks \u001b[39mor\u001b[39;00m \u001b[39mself\u001b[39m\u001b[39m.\u001b[39m_forward_hooks \u001b[39mor\u001b[39;00m \u001b[39mself\u001b[39m\u001b[39m.\u001b[39m_forward_pre_hooks\n\u001b[1;32m   1499\u001b[0m         \u001b[39mor\u001b[39;00m _global_backward_pre_hooks \u001b[39mor\u001b[39;00m _global_backward_hooks\n\u001b[1;32m   1500\u001b[0m         \u001b[39mor\u001b[39;00m _global_forward_hooks \u001b[39mor\u001b[39;00m _global_forward_pre_hooks):\n\u001b[0;32m-> 1501\u001b[0m     \u001b[39mreturn\u001b[39;00m forward_call(\u001b[39m*\u001b[39;49margs, \u001b[39m*\u001b[39;49m\u001b[39m*\u001b[39;49mkwargs)\n\u001b[1;32m   1502\u001b[0m \u001b[39m# Do not call functions when jit is used\u001b[39;00m\n\u001b[1;32m   1503\u001b[0m full_backward_hooks, non_full_backward_hooks \u001b[39m=\u001b[39m [], []\n",
      "\u001b[0;31mTypeError\u001b[0m: forward() got an unexpected keyword argument 'query'"
     ]
    }
   ],
   "source": [
    "from models.codec import SwinCrossScaleCodec\n",
    "codec = SwinCrossScaleCodec(patch_size = [3,2],\n",
    "                                swin_depth = 2,\n",
    "                                swin_heads = [3,3,6,12,24],\n",
    "                                window_size = 4,\n",
    "                                mlp_ratio = 4.,\n",
    "                                in_dim = 2, \n",
    "                                in_freq = 192, \n",
    "                                h_dims = [45, 45, 72, 96, 192, 384], \n",
    "                                max_streams = 6, \n",
    "                                proj = [4,4,2,2,2,2], \n",
    "                                overlap = 2, \n",
    "                                num_vqs = 6, \n",
    "                                codebook_size = 1024, \n",
    "                                fuse_net=True)\n",
    "outputs = codec.train_one_step(x=torch.randn(1,47920),\n",
    "                        x_feat=torch.randn(1,192,600,2),\n",
    "                        streams=6)"
   ]
  },
  {
   "cell_type": "code",
   "execution_count": 3,
   "metadata": {},
   "outputs": [
    {
     "name": "stderr",
     "output_type": "stream",
     "text": [
      "/Library/Frameworks/Python.framework/Versions/3.9/lib/python3.9/site-packages/tqdm/auto.py:22: TqdmWarning: IProgress not found. Please update jupyter and ipywidgets. See https://ipywidgets.readthedocs.io/en/stable/user_install.html\n",
      "  from .autonotebook import tqdm as notebook_tqdm\n"
     ]
    }
   ],
   "source": [
    "from models.swin import WindowAlignment"
   ]
  },
  {
   "cell_type": "code",
   "execution_count": 4,
   "metadata": {},
   "outputs": [
    {
     "name": "stderr",
     "output_type": "stream",
     "text": [
      "/Library/Frameworks/Python.framework/Versions/3.9/lib/python3.9/site-packages/torch/functional.py:504: UserWarning: torch.meshgrid: in an upcoming release, it will be required to pass the indexing argument. (Triggered internally at /Users/runner/work/pytorch/pytorch/pytorch/aten/src/ATen/native/TensorShape.cpp:3484.)\n",
      "  return _VF.meshgrid(tensors, **kwargs)  # type: ignore[attr-defined]\n"
     ]
    }
   ],
   "source": [
    "align = WindowAlignment(\n",
    "    freq_size=2,\n",
    "    d_model=24,\n",
    "    num_heads=1,\n",
    "    window_size=8,\n",
    "    shift_size=4\n",
    ")"
   ]
  },
  {
   "cell_type": "code",
   "execution_count": 1,
   "metadata": {},
   "outputs": [],
   "source": [
    "import torch\n",
    "B, F, T, C = 1, 2, 10, 24\n",
    "\n",
    "x = torch.randn(B, F*T, C)\n",
    "y = torch.randn(B, F*T, C)"
   ]
  },
  {
   "cell_type": "code",
   "execution_count": 5,
   "metadata": {},
   "outputs": [
    {
     "name": "stdout",
     "output_type": "stream",
     "text": [
      "torch.Size([1, 20, 24]) torch.Size([1, 20, 24])\n"
     ]
    }
   ],
   "source": [
    "x, y = align(\n",
    "    (x, y)\n",
    ")\n",
    "print(x.shape, y.shape)"
   ]
  },
  {
   "cell_type": "code",
   "execution_count": 6,
   "metadata": {},
   "outputs": [],
   "source": [
    "shift_align = torch.nn.Sequential(\n",
    "    *[WindowAlignment(\n",
    "    freq_size=2,\n",
    "    d_model=24,\n",
    "    num_heads=1,\n",
    "    window_size=8,\n",
    "    shift_size=0\n",
    "),WindowAlignment(\n",
    "    freq_size=2,\n",
    "    d_model=24,\n",
    "    num_heads=1,\n",
    "    window_size=8,\n",
    "    shift_size=4\n",
    ")]\n",
    ")"
   ]
  },
  {
   "cell_type": "code",
   "execution_count": 8,
   "metadata": {},
   "outputs": [
    {
     "name": "stdout",
     "output_type": "stream",
     "text": [
      "torch.Size([1, 20, 24]) torch.Size([1, 20, 24])\n"
     ]
    }
   ],
   "source": [
    "x, y = shift_align((x,y))\n",
    "print(x.shape, y.shape)"
   ]
  },
  {
   "cell_type": "code",
   "execution_count": 1,
   "metadata": {},
   "outputs": [],
   "source": []
  },
  {
   "cell_type": "code",
   "execution_count": 1,
   "metadata": {},
   "outputs": [
    {
     "name": "stdout",
     "output_type": "stream",
     "text": [
      "Codec Causality: False\n",
      "Apply Residual-Based Cross Attention Fusion Net for Swin Codec | Type: window\n",
      "Quantization Vis: \n",
      "     Freq dims:  [2, 2, 4, 8, 16, 32]\n",
      "     Channel(hidden) dims:  [384, 384, 192, 96, 72, 45]\n",
      "     projections from:  [768, 768, 768, 768, 1152, 1440]\n",
      "     projections to:  [192, 192, 384, 384, 576, 720]\n",
      "     group_vq_dims:  [384, 384, 768, 768, 1152, 1440]\n"
     ]
    },
    {
     "name": "stderr",
     "output_type": "stream",
     "text": [
      "/Library/Frameworks/Python.framework/Versions/3.9/lib/python3.9/site-packages/torch/functional.py:504: UserWarning: torch.meshgrid: in an upcoming release, it will be required to pass the indexing argument. (Triggered internally at /Users/runner/work/pytorch/pytorch/pytorch/aten/src/ATen/native/TensorShape.cpp:3484.)\n",
      "  return _VF.meshgrid(tensors, **kwargs)  # type: ignore[attr-defined]\n"
     ]
    }
   ],
   "source": [
    "from models.codec import SwinCrossScaleCodec\n",
    "import torch\n",
    "\n",
    "model = SwinCrossScaleCodec(\n",
    "                        patch_size = [3,2],\n",
    "                        swin_depth = 2,\n",
    "                        swin_heads = [3,3,6,12,24],\n",
    "                        window_size = 4,\n",
    "                        mlp_ratio = 4.,\n",
    "                        in_dim = 2, \n",
    "                        in_freq = 192, \n",
    "                        h_dims = [45, 45, 72, 96, 192, 384], \n",
    "                        max_streams = 6, \n",
    "                        proj = [4,4,2,2,2,2], \n",
    "                        overlap = 2, \n",
    "                        num_vqs = 6, \n",
    "                        codebook_size = 1024, \n",
    "                        fuse_net=\"window\",\n",
    "                        is_causal=False,\n",
    ")"
   ]
  },
  {
   "cell_type": "code",
   "execution_count": 3,
   "metadata": {},
   "outputs": [],
   "source": [
    "x = torch.randn(2, 47920)"
   ]
  },
  {
   "cell_type": "code",
   "execution_count": 5,
   "metadata": {},
   "outputs": [
    {
     "data": {
      "text/plain": [
       "tensor([ 7.4670e-03,  7.3609e-03,  1.5603e-02, -8.2264e-03, -8.8969e-03,\n",
       "        -7.4742e-03,  6.9204e-03,  3.4534e-02, -9.7964e-03,  1.8173e-03,\n",
       "        -1.9554e-02, -3.3295e-03, -4.7611e-03,  3.7022e-03, -3.4558e-03,\n",
       "         1.7518e-04,  8.2543e-06,  5.7664e-03,  1.4516e-02, -6.8270e-04,\n",
       "         5.9632e-04,  2.1606e-04,  2.2192e-02, -1.5404e-02, -9.3460e-03,\n",
       "         6.1011e-03, -4.2672e-03, -9.6518e-03,  7.0921e-03, -4.6471e-03,\n",
       "        -2.0705e-03, -1.2121e-03, -6.5024e-03,  5.7794e-03,  9.7892e-03,\n",
       "         3.9240e-03,  1.3893e-03, -7.7010e-03, -5.9469e-05,  6.3737e-03])"
      ]
     },
     "execution_count": 5,
     "metadata": {},
     "output_type": "execute_result"
    }
   ],
   "source": [
    "output = model.test_one_step(x, None, streams=6)\n",
    "recon_audio = output[\"recon_audio\"]\n",
    "recon_audio[0, 10:50]"
   ]
  },
  {
   "cell_type": "code",
   "execution_count": 4,
   "metadata": {},
   "outputs": [
    {
     "data": {
      "text/plain": [
       "tensor([ 7.4670e-03,  7.3609e-03,  1.5603e-02, -8.2264e-03, -8.8969e-03,\n",
       "        -7.4742e-03,  6.9204e-03,  3.4534e-02, -9.7964e-03,  1.8173e-03,\n",
       "        -1.9554e-02, -3.3295e-03, -4.7611e-03,  3.7022e-03, -3.4558e-03,\n",
       "         1.7518e-04,  8.2543e-06,  5.7664e-03,  1.4516e-02, -6.8270e-04,\n",
       "         5.9632e-04,  2.1606e-04,  2.2192e-02, -1.5404e-02, -9.3460e-03,\n",
       "         6.1011e-03, -4.2672e-03, -9.6518e-03,  7.0921e-03, -4.6471e-03,\n",
       "        -2.0705e-03, -1.2121e-03, -6.5024e-03,  5.7794e-03,  9.7892e-03,\n",
       "         3.9240e-03,  1.3893e-03, -7.7010e-03, -5.9469e-05,  6.3737e-03])"
      ]
     },
     "execution_count": 4,
     "metadata": {},
     "output_type": "execute_result"
    }
   ],
   "source": [
    "multi_codes, enc_shape = model.encode(x, num_streams=6)\n",
    "recon_audio_test = model.decode(multi_codes, enc_shape)\n",
    "recon_audio_test[0, 10:50]"
   ]
  },
  {
   "cell_type": "code",
   "execution_count": 32,
   "metadata": {},
   "outputs": [
    {
     "name": "stdout",
     "output_type": "stream",
     "text": [
      "Entropy: 1.7460907697677612\n",
      "Percentage of VQ entries used: 12/1024 = 1.171875%\n"
     ]
    }
   ],
   "source": [
    "# Suppose `code_tensor` is your tensor of indices from the VQ-VAE model.\n",
    "code_tensor = multi_codes[0][0] # This should be a tensor with the shape [batch_size, height, width] or [batch_size, sequence_length]\n",
    "\n",
    "# Flatten the tensor to get a single list of indices.\n",
    "flat_indices = code_tensor.flatten()\n",
    "\n",
    "# Calculate the total number of indices used (which is also the total number of encodings generated by the model).\n",
    "total_indices = flat_indices.shape[0]\n",
    "\n",
    "# Count the frequency of each index.\n",
    "index_counts = torch.bincount(flat_indices, minlength=1024)\n",
    "\n",
    "# Calculate the probability of each index.\n",
    "index_probabilities = index_counts.float() / total_indices\n",
    "\n",
    "# Calculate entropy.\n",
    "# Add a small value to probability to avoid log(0).\n",
    "entropy = -(index_probabilities * torch.log(index_probabilities + 1e-10)).sum()\n",
    "\n",
    "# Calculate the percentage of used entries.\n",
    "# We only consider indices with at least one count.\n",
    "used_entries = torch.sum(index_counts > 0).item()\n",
    "percentage_used = used_entries / 1024 * 100\n",
    "\n",
    "print(f'Entropy: {entropy.item()}')\n",
    "print(f'Percentage of VQ entries used: {used_entries}/1024 = {percentage_used}%')"
   ]
  },
  {
   "cell_type": "code",
   "execution_count": null,
   "metadata": {},
   "outputs": [],
   "source": []
  }
 ],
 "metadata": {
  "kernelspec": {
   "display_name": "Python 3",
   "language": "python",
   "name": "python3"
  },
  "language_info": {
   "codemirror_mode": {
    "name": "ipython",
    "version": 3
   },
   "file_extension": ".py",
   "mimetype": "text/x-python",
   "name": "python",
   "nbconvert_exporter": "python",
   "pygments_lexer": "ipython3",
   "version": "3.9.0"
  },
  "orig_nbformat": 4
 },
 "nbformat": 4,
 "nbformat_minor": 2
}
