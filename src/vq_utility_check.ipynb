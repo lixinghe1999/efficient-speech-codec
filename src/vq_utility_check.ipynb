{
 "cells": [
  {
   "cell_type": "code",
   "execution_count": 2,
   "metadata": {},
   "outputs": [
    {
     "name": "stdout",
     "output_type": "stream",
     "text": [
      "Use Residual Fuse for Swin Codec\n",
      "Quantization Vis: \n",
      "     Freq dims:  [2, 2, 4, 8, 16, 32]\n",
      "     Channel(hidden) dims:  [384, 384, 192, 96, 72, 45]\n",
      "     projections from:  [768, 768, 768, 768, 1152, 1440]\n",
      "     projections to:  [192, 192, 384, 384, 576, 720]\n",
      "     group_vq_dims:  [384, 384, 768, 768, 1152, 1440]\n"
     ]
    },
    {
     "data": {
      "text/plain": [
       "<All keys matched successfully>"
      ]
     },
     "execution_count": 2,
     "metadata": {},
     "output_type": "execute_result"
    }
   ],
   "source": [
    "import torch, json\n",
    "from models.codec import SwinCrossScaleCodec\n",
    "\n",
    "config = json.load(open(\"/Users/tracy/Desktop/swin-18k-scale-baseline/config.json\", 'r'))\n",
    "# model = SwinCrossScaleCodec(**config)\n",
    "model = SwinCrossScaleCodec(patch_size = [3,2],\n",
    "                 swin_depth = 2,\n",
    "                 swin_heads = [3,3,6,12,24],\n",
    "                 window_size = 4,\n",
    "                 mlp_ratio = 4.,\n",
    "                 in_dim = 2, \n",
    "                 in_freq = 192, \n",
    "                 h_dims = [45, 45, 72, 96, 192, 384], \n",
    "                 max_streams = 6, \n",
    "                 proj = [4,4,2,2,2,2], \n",
    "                 overlap = 2, \n",
    "                 num_vqs = 6, \n",
    "                 codebook_size = 1024, )\n",
    "model.load_state_dict(torch.load(\"/Users/tracy/Desktop/swin-18k-scale-baseline/best.pt\", map_location=\"cpu\")[\"model_state_dict\"])"
   ]
  },
  {
   "cell_type": "code",
   "execution_count": null,
   "metadata": {},
   "outputs": [],
   "source": []
  }
 ],
 "metadata": {
  "kernelspec": {
   "display_name": "Python 3",
   "language": "python",
   "name": "python3"
  },
  "language_info": {
   "codemirror_mode": {
    "name": "ipython",
    "version": 3
   },
   "file_extension": ".py",
   "mimetype": "text/x-python",
   "name": "python",
   "nbconvert_exporter": "python",
   "pygments_lexer": "ipython3",
   "version": "3.9.0"
  }
 },
 "nbformat": 4,
 "nbformat_minor": 2
}
