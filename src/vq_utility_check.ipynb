{
 "cells": [
  {
   "cell_type": "code",
   "execution_count": null,
   "metadata": {},
   "outputs": [],
   "source": [
    "from huggingface_hub import notebook_login\n",
    "notebook_login()"
   ]
  },
  {
   "cell_type": "code",
   "execution_count": null,
   "metadata": {},
   "outputs": [],
   "source": [
    "import torch\n",
    "device = \"cuda\" if torch.cuda.is_available() else \"cpu\"\n",
    "device"
   ]
  },
  {
   "cell_type": "code",
   "execution_count": null,
   "metadata": {},
   "outputs": [],
   "source": [
    "from huggingface_hub import hf_hub_download\n",
    "\n",
    "repo_id = \"Tracygu/dnscustom\"\n",
    "data_path = hf_hub_download(repo_id=repo_id, filename=\"DNS_CHALLENGE/processed_yz/test.pt\", repo_type=\"dataset\")\n",
    "\n",
    "repo_id = \"Tracygu/AudioCodec\"\n",
    "config_path = hf_hub_download(repo_id=repo_id, filename=\"swin-18k-scale-baseline/config.json\", repo_type=\"model\")\n",
    "weight_path = hf_hub_download(repo_id=repo_id, filename=\"swin-18k-scale-baseline/best.pt\", repo_type=\"model\")"
   ]
  },
  {
   "cell_type": "code",
   "execution_count": 7,
   "metadata": {},
   "outputs": [
    {
     "name": "stdout",
     "output_type": "stream",
     "text": [
      "Codec Causality: False\n",
      "Apply Vanilla Residual Fusion Net for Swin Codec\n",
      "Quantization Vis: \n",
      "     Freq dims:  [2, 2, 4, 8, 16, 32]\n",
      "     Channel(hidden) dims:  [384, 384, 192, 96, 72, 45]\n",
      "     projections from:  [768, 768, 768, 768, 1152, 1440]\n",
      "     projections to:  [192, 192, 384, 384, 576, 720]\n",
      "     group_vq_dims:  [384, 384, 768, 768, 1152, 1440]\n"
     ]
    },
    {
     "data": {
      "text/plain": [
       "<All keys matched successfully>"
      ]
     },
     "execution_count": 7,
     "metadata": {},
     "output_type": "execute_result"
    }
   ],
   "source": [
    "import torch, json\n",
    "from tqdm.notebook import tqdm\n",
    "from models.codec import SwinCrossScaleCodec\n",
    "\n",
    "config = json.load(open(config_path, \"r\"))\n",
    "config[\"fuse_net\"] = None\n",
    "weight = torch.load(weight_path, map_location=device)\n",
    "\n",
    "model = SwinCrossScaleCodec(**config)\n",
    "model.load_state_dict(weight[\"model_state_dict\"])\n",
    "\n",
    "model.to(device)\n",
    "\n",
    "data = torch.load(data_path, map_location=device)\n",
    "data.shape"
   ]
  },
  {
   "cell_type": "code",
   "execution_count": 67,
   "metadata": {},
   "outputs": [],
   "source": [
    "def calculate_codebook_utility(code, codebook_size=1024):\n",
    "    flat_indices = code.flatten()\n",
    "    total_indices = flat_indices.shape[0]\n",
    "    index_counts = torch.bincount(flat_indices, minlength=codebook_size)\n",
    "\n",
    "    index_probabilities = index_counts.float() / total_indices\n",
    "    entropy = -(index_probabilities * torch.log(index_probabilities + 1e-10)).sum()\n",
    "    used_entries = torch.sum(index_counts > 0).item()\n",
    "    percentage_used = used_entries / codebook_size * 100\n",
    "    print(f'Entropy: {entropy.item():.2f}', end=\"  \")\n",
    "    print(f'Percentage of VQ entries used: {used_entries}/{codebook_size} = {percentage_used:.2f}%')\n",
    "    return entropy.item(), percentage_used\n",
    "\n",
    "def gather_all_code(model, data, num_streams=6):\n",
    "\n",
    "    all_codes = {f\"stream {i}\":[] for i in range(num_streams)}\n",
    "    for i in tqdm(range(data.size(0)), desc=\"Gathering codes\"):\n",
    "        x = data[i:i+1]\n",
    "        multi_codes, _ = model.encode(x, num_streams=num_streams)\n",
    "\n",
    "        for j in range(num_streams):\n",
    "            jth_code = multi_codes[j] # [group_size, points]\n",
    "            all_codes[f\"stream {j}\"].append(jth_code)\n",
    "    for key, val in all_codes.items():\n",
    "        all_codes[key] = torch.cat(val, dim=1) # [group_size, points*num_data]\n",
    "    \n",
    "    return all_codes\n",
    "\n",
    "def run(model, data, num_streams):\n",
    "\n",
    "    data = data[:, :-80]\n",
    "\n",
    "    all_codes = gather_all_code(model, data, num_streams)\n",
    "    group_size = all_codes[\"stream 0\"].size(0)\n",
    "\n",
    "    print(\"Counting\")\n",
    "    all_stats = []\n",
    "    for j in range(num_streams):\n",
    "        stream_i_stats = []\n",
    "        for g in range(group_size): \n",
    "            code = all_codes[f\"stream {j}\"][g:g+1]\n",
    "            print(f\"Evaluate {j+1}-th/{num_streams} stream and {g+1}-th/{group_size} codebook: \")\n",
    "            entropy, percentage_used = calculate_codebook_utility(code, codebook_size=1024)\n",
    "            stream_i_stats.append((entropy, percentage_used))\n",
    "        all_stats.append(stream_i_stats)\n",
    "\n",
    "    return all_stats"
   ]
  },
  {
   "cell_type": "code",
   "execution_count": null,
   "metadata": {},
   "outputs": [],
   "source": [
    "all_stats = run(model, data, num_streams=6)"
   ]
  },
  {
   "cell_type": "code",
   "execution_count": 16,
   "metadata": {},
   "outputs": [],
   "source": [
    "import matplotlib.pyplot as plt\n",
    "import numpy as np\n",
    "\n",
    "def visualize(all_stats, title=\"VQ Utility Table on Testset\"):\n",
    "\n",
    "    fig, ax1 = plt.subplots(figsize=(16, 10))\n",
    "    fig.suptitle(title, fontsize=12)\n",
    "\n",
    "    ax1.set_xlabel('Percentage Used')\n",
    "    ax1.set_xlim(0, 120)\n",
    "    ax2 = ax1.twiny()\n",
    "    ax2.set_xlim(0, 40)\n",
    "    ax2.set_xlabel('Entropy')\n",
    "\n",
    "    bar_width = 0.4\n",
    "\n",
    "    num_vq = len(all_stats[0])\n",
    "    num_stream = len(all_stats)\n",
    "\n",
    "    gap_between_vqs = 0.3\n",
    "    gap_between_streams = 1\n",
    "\n",
    "    total_bar_height = num_vq * bar_width + (num_vq - 1) * gap_between_vqs\n",
    "    total_height = num_stream * total_bar_height + (num_stream - 1) * gap_between_streams\n",
    "\n",
    "    y_positions = np.arange(0, total_height, total_bar_height+gap_between_streams)\n",
    "    for i, stream_stats in enumerate(all_stats):\n",
    "        entropies, percentages = zip(*stream_stats)\n",
    "\n",
    "        y = y_positions[i] + np.arange(num_vq) * (bar_width + gap_between_vqs)\n",
    "        ax1.barh(y, percentages, height=bar_width, color='green', edgecolor='white')\n",
    "\n",
    "        percentage_aligned = [p/3 for p in percentages]\n",
    "        ax2.barh(y, entropies, left=percentage_aligned, height=bar_width, color='blue', edgecolor='white')\n",
    "\n",
    "    ax1.set_xlabel('Percentage Used -/1024 (%)')\n",
    "    ax1.set_ylabel(\"VQ Stream\")\n",
    "    ax1.set_yticks(y_positions + (total_bar_height - bar_width) / 2)\n",
    "    ax1.set_yticklabels([f'Stream {i+1}' for i in range(len(all_stats))])\n",
    "\n",
    "    ax1.grid(axis=\"x\")\n",
    "    ax1.legend(['Percentage Used'], loc='upper right')\n",
    "    ax2.legend(['Entropy'], loc='upper left')\n",
    "\n",
    "    plt.tight_layout()\n",
    "    plt.show()"
   ]
  },
  {
   "cell_type": "code",
   "execution_count": 17,
   "metadata": {},
   "outputs": [
    {
     "data": {
      "image/png": "[encoded data removed]",
      "text/plain": [
       "<Figure size 1152x720 with 2 Axes>"
      ]
     },
     "metadata": {
      "needs_background": "light"
     },
     "output_type": "display_data"
    }
   ],
   "source": [
    "import json\n",
    "\n",
    "all_stats_saved = json.load(open(\"/Users/tracy/Desktop/swin-18k-scale-baseline/test_vq_stats.json\"))\n",
    "model_name, test_all_stats = all_stats_saved[\"model_name\"], all_stats_saved[\"stats\"]\n",
    "\n",
    "visualize(test_all_stats, title=f\"{model_name}:VQ Utility Table on Testset\")"
   ]
  },
  {
   "cell_type": "code",
   "execution_count": null,
   "metadata": {},
   "outputs": [],
   "source": [
    "visualize(all_stats[\"train\"])\n",
    "visualize(all_stats[\"test\"])"
   ]
  }
 ],
 "metadata": {
  "kernelspec": {
   "display_name": "Python 3",
   "language": "python",
   "name": "python3"
  },
  "language_info": {
   "codemirror_mode": {
    "name": "ipython",
    "version": 3
   },
   "file_extension": ".py",
   "mimetype": "text/x-python",
   "name": "python",
   "nbconvert_exporter": "python",
   "pygments_lexer": "ipython3",
   "version": "3.9.0"
  }
 },
 "nbformat": 4,
 "nbformat_minor": 2
}
