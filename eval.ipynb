{
  "cells": [
    {
      "cell_type": "code",
      "execution_count": 36,
      "metadata": {
        "colab": {
          "base_uri": "https://localhost:8080/"
        },
        "id": "00itEp0jTXqc",
        "outputId": "d3db37ec-97dd-4854-8b9e-00192c372a9d"
      },
      "outputs": [
        {
          "name": "stdout",
          "output_type": "stream",
          "text": [
            "Audio Codec 18.0kbps Initialized\n",
            "Codec Causality: False\n",
            "Apply Residual-Based Cross Attention Fusion Net for Swin Codec | Type: None\n",
            "Quantization Vis: \n",
            "     EMA: False CosineSimilarity: True\n",
            "     Freq dims:  [2, 2, 4, 8, 16, 32]\n",
            "     Channel(hidden) dims:  [384, 384, 192, 144, 96, 72]\n",
            "     Merged dims:  [768, 768, 768, 1152, 1536, 2304]\n",
            "     GroupVQ proj dims:  [768, 768, 768, 1152, 1536, 2304]\n",
            "     GroupVQ dims (for each):  [256, 256, 256, 384, 512, 768]\n",
            "     Mapped Codebook dims (for each):  [8, 8, 8, 8, 8, 8]\n",
            "Pre-swin Layer: swin_depth=2 swin_hidden=45 heads=3 down=False\n",
            "Layer[0]: swin_depth=2 swin_hidden=45 heads=3 down=True\n",
            "Layer[1]: swin_depth=2 swin_hidden=72 heads=6 down=True\n",
            "Layer[2]: swin_depth=2 swin_hidden=96 heads=12 down=True\n",
            "Layer[3]: swin_depth=2 swin_hidden=144 heads=24 down=True\n",
            "Layer[4]: swin_depth=2 swin_hidden=192 heads=24 down=True\n",
            "\n",
            "Layer[0]: swin_depth=2 swin_hidden=384 heads=24 up=True\n",
            "Layer[1]: swin_depth=2 swin_hidden=192 heads=24 up=True\n",
            "Layer[2]: swin_depth=2 swin_hidden=144 heads=12 up=True\n",
            "Layer[3]: swin_depth=2 swin_hidden=96 heads=6 up=True\n",
            "Layer[4]: swin_depth=2 swin_hidden=72 heads=3 up=True\n",
            "Post-swin Layer: swin_depth=2 swin_hidden=45 heads=3 up=False\n"
          ]
        }
      ],
      "source": [
        "import sys\n",
        "sys.path.append(\"./src\")\n",
        "from models.codec import SwinAudioCodec\n",
        "\n",
        "import yaml, torch\n",
        "device = \"cpu\"\n",
        "\n",
        "with open(\"./src/configs/residual_18k.yml\", 'r') as f:\n",
        "    config = yaml.safe_load(f)\n",
        "\n",
        "model = SwinAudioCodec(**config[\"model\"]).to(device)"
      ]
    },
    {
      "cell_type": "code",
      "execution_count": 37,
      "metadata": {
        "colab": {
          "base_uri": "https://localhost:8080/"
        },
        "id": "aLmUQG6XTXqf",
        "outputId": "bd8cade8-4765-4352-f68a-6a01dff0c4e2"
      },
      "outputs": [
        {
          "data": {
            "text/plain": [
              "8533829"
            ]
          },
          "execution_count": 37,
          "metadata": {},
          "output_type": "execute_result"
        }
      ],
      "source": [
        "trainable_params = sum(\n",
        "\tp.numel() for p in model.parameters() if p.requires_grad\n",
        ")\n",
        "trainable_params"
      ]
    },
    {
      "cell_type": "markdown",
      "metadata": {
        "id": "2KmjFj-rTXqf"
      },
      "source": [
        "## Evaluate Latency"
      ]
    },
    {
      "cell_type": "code",
      "execution_count": 38,
      "metadata": {
        "id": "wl3ovArxTXqg"
      },
      "outputs": [],
      "source": [
        "import time, glob, torchaudio\n",
        "\n",
        "eval_pth = \"/Users/tracy/Desktop/eval_instances\"\n",
        "eval_files = glob.glob(f\"{eval_pth}/*.wav\")\n",
        "eval_audios = [\n",
        "    (torchaudio.load(f)[0]).to(device) for f in eval_files\n",
        "]\n",
        "\n",
        "eval_audios = eval_audios[:5]\n",
        "\n",
        "model = model.to(device)\n",
        "def compress(model, n_streams):\n",
        "    encoded = []\n",
        "    for d in eval_audios:\n",
        "\n",
        "        multi_codes, _ = model.encode(d, num_streams=n_streams)\n",
        "\n",
        "        encoded.append(multi_codes)\n",
        "\n",
        "    return encoded\n",
        "\n",
        "\n",
        "def recover(model, encoded):\n",
        "    for encoded_d in encoded:\n",
        "        x_recon = model.decode(encoded_d, enc_feat_size=(2,1000))\n",
        "    return\n"
      ]
    },
    {
      "cell_type": "code",
      "execution_count": 39,
      "metadata": {
        "colab": {
          "base_uri": "https://localhost:8080/"
        },
        "id": "VwFHCKquTXqg",
        "outputId": "f36d874b-077f-4b74-9779-44638786c1e8"
      },
      "outputs": [
        {
          "name": "stdout",
          "output_type": "stream",
          "text": [
            "Ours Compress Time (5 10sec audio) on cpu:  6.510828971862793\n",
            "Ours Recover Time (5 10sec audio) on cpu:  4.136021852493286\n"
          ]
        }
      ],
      "source": [
        "start = time.time()\n",
        "encoded = compress(model, n_streams=6)\n",
        "end = time.time()\n",
        "print(f\"Ours Compress Time ({len(eval_audios)} 10sec audio) on {device}: \", end - start)\n",
        "\n",
        "start = time.time()\n",
        "recover(model, encoded)\n",
        "end = time.time()\n",
        "print(f\"Ours Recover Time ({len(eval_audios)} 10sec audio) on {device}: \", end - start)"
      ]
    },
    {
      "cell_type": "code",
      "execution_count": null,
      "metadata": {
        "id": "9Rc9PbdwTXqg"
      },
      "outputs": [],
      "source": []
    },
    {
      "cell_type": "markdown",
      "metadata": {
        "id": "Ca4s7b5BTXqh"
      },
      "source": [
        "## Count VQ Utility"
      ]
    },
    {
      "cell_type": "code",
      "execution_count": null,
      "metadata": {
        "id": "KKQ4rfqiTXqh"
      },
      "outputs": [],
      "source": [
        "import json\n",
        "usage_stats = json.load(open(\"./assets/results/swin-18k-residual/vq_stats/train/usage.json\", \"r\"))"
      ]
    },
    {
      "cell_type": "code",
      "execution_count": null,
      "metadata": {
        "id": "A_cY3OCSTXqh",
        "outputId": "020d16fc-d8ba-4f5a-f692-a6af0562f7ee"
      },
      "outputs": [
        {
          "data": {
            "text/plain": [
              "{'stream_0_group_1': 96.875,\n",
              " 'stream_0_group_2': 57.71484375,\n",
              " 'stream_0_group_3': 100.0,\n",
              " 'stream_0_group_4': 86.23046875,\n",
              " 'stream_0_group_5': 48.6328125,\n",
              " 'stream_0_group_6': 100.0,\n",
              " 'stream_1_group_1': 98.73046875,\n",
              " 'stream_1_group_2': 43.84765625,\n",
              " 'stream_1_group_3': 100.0,\n",
              " 'stream_1_group_4': 96.19140625,\n",
              " 'stream_1_group_5': 76.66015625,\n",
              " 'stream_1_group_6': 100.0,\n",
              " 'stream_2_group_1': 87.40234375,\n",
              " 'stream_2_group_2': 34.27734375,\n",
              " 'stream_2_group_3': 91.2109375,\n",
              " 'stream_2_group_4': 20.3125,\n",
              " 'stream_2_group_5': 60.44921875,\n",
              " 'stream_2_group_6': 98.046875,\n",
              " 'stream_3_group_1': 99.21875,\n",
              " 'stream_3_group_2': 84.08203125,\n",
              " 'stream_3_group_3': 100.0,\n",
              " 'stream_3_group_4': 92.1875,\n",
              " 'stream_3_group_5': 91.50390625,\n",
              " 'stream_3_group_6': 89.453125,\n",
              " 'stream_4_group_1': 85.3515625,\n",
              " 'stream_4_group_2': 91.796875,\n",
              " 'stream_4_group_3': 95.703125,\n",
              " 'stream_4_group_4': 99.4140625,\n",
              " 'stream_4_group_5': 86.62109375,\n",
              " 'stream_4_group_6': 92.28515625,\n",
              " 'stream_5_group_1': 31.15234375,\n",
              " 'stream_5_group_2': 59.66796875,\n",
              " 'stream_5_group_3': 62.20703125,\n",
              " 'stream_5_group_4': 33.203125,\n",
              " 'stream_5_group_5': 44.921875,\n",
              " 'stream_5_group_6': 71.38671875}"
            ]
          },
          "execution_count": 30,
          "metadata": {},
          "output_type": "execute_result"
        }
      ],
      "source": [
        "usage_stats"
      ]
    },
    {
      "cell_type": "code",
      "execution_count": null,
      "metadata": {
        "id": "9wjDZmGlTXqh",
        "outputId": "1241c5a9-b60d-42e4-d8f5-fb2479ae0f45"
      },
      "outputs": [
        {
          "name": "stdout",
          "output_type": "stream",
          "text": [
            "Total Used Percentage is 2806.73828125/3600 = 0.7796495225694444\n",
            "Effective Total Bitrate is 14.03kbps/18kbps\n"
          ]
        }
      ],
      "source": [
        "total = len(usage_stats) * 100\n",
        "used_per = 0\n",
        "for key, val in usage_stats.items():\n",
        "    used_per += val\n",
        "\n",
        "print(f\"Total Used Percentage is {used_per}/{total} = {used_per/total}\")\n",
        "print(f\"Effective Total Bitrate is {18*used_per/total:.2f}kbps/18kbps\")"
      ]
    },
    {
      "cell_type": "code",
      "execution_count": null,
      "metadata": {
        "id": "v_H2ROSbTXqh",
        "outputId": "bbdacb00-818c-4f48-890a-089f99f59b48"
      },
      "outputs": [
        {
          "name": "stdout",
          "output_type": "stream",
          "text": [
            "effective_bitrates_stream_0: 2.447265625 effective_bitrates_3kbps: 2.447265625\n",
            "effective_bitrates_stream_1: 2.5771484375 effective_bitrates_6kbps: 5.0244140625\n",
            "effective_bitrates_stream_2: 1.95849609375 effective_bitrates_9kbps: 6.98291015625\n",
            "effective_bitrates_stream_3: 2.7822265625 effective_bitrates_12kbps: 9.76513671875\n",
            "effective_bitrates_stream_4: 2.755859375 effective_bitrates_15kbps: 12.52099609375\n",
            "effective_bitrates_stream_5: 1.5126953125 effective_bitrates_18kbps: 14.03369140625\n"
          ]
        }
      ],
      "source": [
        "effective_bitrates = {}\n",
        "\n",
        "for i, (key, val) in enumerate(usage_stats.items(), start=0):\n",
        "    effective_bitrates[key] = .5 * val * .01\n",
        "\n",
        "cum = 0\n",
        "for i in range(6):\n",
        "    bits = sum([val for key, val in effective_bitrates.items() if key.startswith(f\"stream_{i}\")])\n",
        "    cum += bits\n",
        "    print(f\"effective_bitrates_stream_{i}:\", bits, f\"effective_bitrates_{3*(i+1)}kbps:\", cum)\n"
      ]
    },
    {
      "cell_type": "code",
      "execution_count": 7,
      "metadata": {},
      "outputs": [
        {
          "data": {
            "text/plain": [
              "True"
            ]
          },
          "execution_count": 7,
          "metadata": {},
          "output_type": "execute_result"
        }
      ],
      "source": [
        "1 == True"
      ]
    },
    {
      "cell_type": "code",
      "execution_count": null,
      "metadata": {},
      "outputs": [],
      "source": []
    },
    {
      "cell_type": "code",
      "execution_count": 1,
      "metadata": {},
      "outputs": [
        {
          "name": "stdout",
          "output_type": "stream",
          "text": [
            "Audio Codec 9.0kbps Initialized\n",
            "Codec Causality: False\n",
            "Apply Residual-Based Cross Attention Fusion Net for Swin Codec | Type: None\n",
            "Quantization Vis: \n",
            "     EMA: False CosineSimilarity: True\n",
            "     Freq dims:  [2, 2, 4, 8, 16, 32]\n",
            "     Channel(hidden) dims:  [384, 384, 192, 144, 96, 72]\n",
            "     Merged dims:  [768, 768, 768, 1152, 1536, 2304]\n",
            "     GroupVQ proj dims:  [768, 768, 768, 1152, 1536, 2304]\n",
            "     GroupVQ dims (for each):  [512, 512, 512, 768, 1024, 1536]\n",
            "     Mapped Codebook dims (for each):  [12, 12, 12, 12, 12, 12]\n",
            "Pre-swin Layer: swin_depth=2 swin_hidden=45 heads=3 down=False\n",
            "Layer[0]: swin_depth=2 swin_hidden=45 heads=3 down=True\n",
            "Layer[1]: swin_depth=2 swin_hidden=72 heads=6 down=True\n",
            "Layer[2]: swin_depth=2 swin_hidden=96 heads=12 down=True\n",
            "Layer[3]: swin_depth=2 swin_hidden=144 heads=24 down=True\n",
            "Layer[4]: swin_depth=2 swin_hidden=192 heads=24 down=True\n",
            "\n",
            "Layer[0]: swin_depth=2 swin_hidden=384 heads=24 up=True\n",
            "Layer[1]: swin_depth=2 swin_hidden=192 heads=24 up=True\n",
            "Layer[2]: swin_depth=2 swin_hidden=144 heads=12 up=True\n",
            "Layer[3]: swin_depth=2 swin_hidden=96 heads=6 up=True\n",
            "Layer[4]: swin_depth=2 swin_hidden=72 heads=3 up=True\n",
            "Post-swin Layer: swin_depth=2 swin_hidden=45 heads=3 up=False\n"
          ]
        },
        {
          "name": "stderr",
          "output_type": "stream",
          "text": [
            "/Library/Frameworks/Python.framework/Versions/3.9/lib/python3.9/site-packages/torch/functional.py:504: UserWarning: torch.meshgrid: in an upcoming release, it will be required to pass the indexing argument. (Triggered internally at /Users/runner/work/pytorch/pytorch/pytorch/aten/src/ATen/native/TensorShape.cpp:3484.)\n",
            "  return _VF.meshgrid(tensors, **kwargs)  # type: ignore[attr-defined]\n"
          ]
        }
      ],
      "source": [
        "import sys\n",
        "sys.path.append(\"./src\")\n",
        "from models.codec import SwinAudioCodec\n",
        "\n",
        "import yaml, torch\n",
        "device = \"cpu\"\n",
        "\n",
        "with open(\"./src/configs/residual_9k.yml\", 'r') as f:\n",
        "    config = yaml.safe_load(f)\n",
        "\n",
        "model = SwinAudioCodec(**config[\"model\"]).to(device)"
      ]
    },
    {
      "cell_type": "code",
      "execution_count": 2,
      "metadata": {},
      "outputs": [
        {
          "data": {
            "text/plain": [
              "<All keys matched successfully>"
            ]
          },
          "execution_count": 2,
          "metadata": {},
          "output_type": "execute_result"
        }
      ],
      "source": [
        "model.load_state_dict(torch.load(\"/Users/tracy/Desktop/swin-9k-residual-gan-250k/best.pt\", map_location=device)[\"model_state_dict\"])"
      ]
    },
    {
      "cell_type": "code",
      "execution_count": 3,
      "metadata": {},
      "outputs": [],
      "source": [
        "import torchaudio\n",
        "x, _ = torchaudio.load(\"/Users/tracy/Desktop/Audio_Codec/swin-debug-vis/test/mandarin_instance1.wav\")"
      ]
    },
    {
      "cell_type": "code",
      "execution_count": 4,
      "metadata": {},
      "outputs": [
        {
          "name": "stdout",
          "output_type": "stream",
          "text": [
            "6 torch.Size([1, 3, 500])\n"
          ]
        }
      ],
      "source": [
        "codes, _ = model.encode(x=x, num_streams=6)\n",
        "print(len(codes), codes[0].shape)\n",
        "\n",
        "recon_audio = model.decode(codes, enc_feat_size=(2, 1000))"
      ]
    },
    {
      "cell_type": "code",
      "execution_count": 11,
      "metadata": {},
      "outputs": [],
      "source": [
        "torchaudio.save(\"/Users/tracy/Desktop/recon_our_gan.wav\", recon_audio, 16000)"
      ]
    },
    {
      "cell_type": "code",
      "execution_count": null,
      "metadata": {},
      "outputs": [],
      "source": []
    }
  ],
  "metadata": {
    "accelerator": "GPU",
    "colab": {
      "gpuType": "T4",
      "provenance": []
    },
    "kernelspec": {
      "display_name": "Python 3",
      "name": "python3"
    },
    "language_info": {
      "codemirror_mode": {
        "name": "ipython",
        "version": 3
      },
      "file_extension": ".py",
      "mimetype": "text/x-python",
      "name": "python",
      "nbconvert_exporter": "python",
      "pygments_lexer": "ipython3",
      "version": "3.9.0"
    },
    "orig_nbformat": 4,
    "vscode": {
      "interpreter": {
        "hash": "31f2aee4e71d21fbe5cf8b01ff0e069b9275f58929596ceb00d14d90e3e16cd6"
      }
    }
  },
  "nbformat": 4,
  "nbformat_minor": 0
}
